{
 "cells": [
  {
   "cell_type": "markdown",
   "metadata": {},
   "source": [
    "#### 4-Outliers Assignment"
   ]
  },
  {
   "cell_type": "markdown",
   "metadata": {},
   "source": [
    "In this assignment, you'll continue working with the U.S. Education Dataset from Kaggle. The data gives detailed state-level information on several facets of education on an annual basis. To learn more about the data and the column descriptions, you can view the Kaggle link above.\n",
    "\n",
    "Don't forget to apply the most suitable missing-value-filling techniques from the previous checkpoint to the data. Provide the answers to the following only after you've addressed missing values!\n",
    "\n",
    "To complete this assignment, submit a link to a Jupyter Notebook containing your solutions to the following tasks:\n",
    "\n",
    "1. Consider the two variables: TOTAL_REVENUE and TOTAL_EXPENDITURE. Do these variables have outlier values?\n",
    "\n"
   ]
  },
  {
   "cell_type": "code",
   "execution_count": 1,
   "metadata": {},
   "outputs": [],
   "source": [
    "import pandas as pd\n",
    "import numpy as np\n",
    "import matplotlib.pyplot as plt\n",
    "import seaborn as sns \n",
    "\n",
    "df = pd.read_csv('Datasets/states_all.csv')\n",
    "cols = df.columns\n",
    "\n"
   ]
  },
  {
   "cell_type": "code",
   "execution_count": 2,
   "metadata": {},
   "outputs": [
    {
     "data": {
      "text/plain": [
       "PRIMARY_KEY                        0\n",
       "STATE                              0\n",
       "YEAR                               0\n",
       "ENROLL                           491\n",
       "TOTAL_REVENUE                    440\n",
       "FEDERAL_REVENUE                  440\n",
       "STATE_REVENUE                    440\n",
       "LOCAL_REVENUE                    440\n",
       "TOTAL_EXPENDITURE                440\n",
       "INSTRUCTION_EXPENDITURE          440\n",
       "SUPPORT_SERVICES_EXPENDITURE     440\n",
       "OTHER_EXPENDITURE                491\n",
       "CAPITAL_OUTLAY_EXPENDITURE       440\n",
       "GRADES_PK_G                      173\n",
       "GRADES_KG_G                       83\n",
       "GRADES_4_G                        83\n",
       "GRADES_8_G                        83\n",
       "GRADES_12_G                       83\n",
       "GRADES_1_8_G                     695\n",
       "GRADES_9_12_G                    644\n",
       "GRADES_ALL_G                      83\n",
       "AVG_MATH_4_SCORE                1150\n",
       "AVG_MATH_8_SCORE                1113\n",
       "AVG_READING_4_SCORE             1065\n",
       "AVG_READING_8_SCORE             1153\n",
       "dtype: int64"
      ]
     },
     "execution_count": 2,
     "metadata": {},
     "output_type": "execute_result"
    }
   ],
   "source": [
    "df.isnull().sum()"
   ]
  },
  {
   "cell_type": "code",
   "execution_count": 4,
   "metadata": {},
   "outputs": [],
   "source": [
    "cols_to_drop = cols[np.where((df.isnull().sum())/len(df) > 0.5)].to_list() # columns with missing values more than 50%\n"
   ]
  },
  {
   "cell_type": "code",
   "execution_count": 5,
   "metadata": {},
   "outputs": [
    {
     "data": {
      "text/html": [
       "<div>\n",
       "<style scoped>\n",
       "    .dataframe tbody tr th:only-of-type {\n",
       "        vertical-align: middle;\n",
       "    }\n",
       "\n",
       "    .dataframe tbody tr th {\n",
       "        vertical-align: top;\n",
       "    }\n",
       "\n",
       "    .dataframe thead th {\n",
       "        text-align: right;\n",
       "    }\n",
       "</style>\n",
       "<table border=\"1\" class=\"dataframe\">\n",
       "  <thead>\n",
       "    <tr style=\"text-align: right;\">\n",
       "      <th></th>\n",
       "      <th>PRIMARY_KEY</th>\n",
       "      <th>STATE</th>\n",
       "      <th>YEAR</th>\n",
       "      <th>ENROLL</th>\n",
       "      <th>TOTAL_REVENUE</th>\n",
       "      <th>FEDERAL_REVENUE</th>\n",
       "      <th>STATE_REVENUE</th>\n",
       "      <th>LOCAL_REVENUE</th>\n",
       "      <th>TOTAL_EXPENDITURE</th>\n",
       "      <th>INSTRUCTION_EXPENDITURE</th>\n",
       "      <th>...</th>\n",
       "      <th>OTHER_EXPENDITURE</th>\n",
       "      <th>CAPITAL_OUTLAY_EXPENDITURE</th>\n",
       "      <th>GRADES_PK_G</th>\n",
       "      <th>GRADES_KG_G</th>\n",
       "      <th>GRADES_4_G</th>\n",
       "      <th>GRADES_8_G</th>\n",
       "      <th>GRADES_12_G</th>\n",
       "      <th>GRADES_1_8_G</th>\n",
       "      <th>GRADES_9_12_G</th>\n",
       "      <th>GRADES_ALL_G</th>\n",
       "    </tr>\n",
       "  </thead>\n",
       "  <tbody>\n",
       "    <tr>\n",
       "      <th>0</th>\n",
       "      <td>1992_ALABAMA</td>\n",
       "      <td>ALABAMA</td>\n",
       "      <td>1992</td>\n",
       "      <td>NaN</td>\n",
       "      <td>2678885.0</td>\n",
       "      <td>304177.0</td>\n",
       "      <td>1659028.0</td>\n",
       "      <td>715680.0</td>\n",
       "      <td>2653798.0</td>\n",
       "      <td>1481703.0</td>\n",
       "      <td>...</td>\n",
       "      <td>NaN</td>\n",
       "      <td>174053.0</td>\n",
       "      <td>8224.0</td>\n",
       "      <td>55460.0</td>\n",
       "      <td>57948.0</td>\n",
       "      <td>58025.0</td>\n",
       "      <td>41167.0</td>\n",
       "      <td>NaN</td>\n",
       "      <td>NaN</td>\n",
       "      <td>731634.0</td>\n",
       "    </tr>\n",
       "    <tr>\n",
       "      <th>1</th>\n",
       "      <td>1992_ALASKA</td>\n",
       "      <td>ALASKA</td>\n",
       "      <td>1992</td>\n",
       "      <td>NaN</td>\n",
       "      <td>1049591.0</td>\n",
       "      <td>106780.0</td>\n",
       "      <td>720711.0</td>\n",
       "      <td>222100.0</td>\n",
       "      <td>972488.0</td>\n",
       "      <td>498362.0</td>\n",
       "      <td>...</td>\n",
       "      <td>NaN</td>\n",
       "      <td>37451.0</td>\n",
       "      <td>2371.0</td>\n",
       "      <td>10152.0</td>\n",
       "      <td>9748.0</td>\n",
       "      <td>8789.0</td>\n",
       "      <td>6714.0</td>\n",
       "      <td>NaN</td>\n",
       "      <td>NaN</td>\n",
       "      <td>122487.0</td>\n",
       "    </tr>\n",
       "    <tr>\n",
       "      <th>2</th>\n",
       "      <td>1992_ARIZONA</td>\n",
       "      <td>ARIZONA</td>\n",
       "      <td>1992</td>\n",
       "      <td>NaN</td>\n",
       "      <td>3258079.0</td>\n",
       "      <td>297888.0</td>\n",
       "      <td>1369815.0</td>\n",
       "      <td>1590376.0</td>\n",
       "      <td>3401580.0</td>\n",
       "      <td>1435908.0</td>\n",
       "      <td>...</td>\n",
       "      <td>NaN</td>\n",
       "      <td>609114.0</td>\n",
       "      <td>2544.0</td>\n",
       "      <td>53497.0</td>\n",
       "      <td>55433.0</td>\n",
       "      <td>49081.0</td>\n",
       "      <td>37410.0</td>\n",
       "      <td>NaN</td>\n",
       "      <td>NaN</td>\n",
       "      <td>673477.0</td>\n",
       "    </tr>\n",
       "    <tr>\n",
       "      <th>3</th>\n",
       "      <td>1992_ARKANSAS</td>\n",
       "      <td>ARKANSAS</td>\n",
       "      <td>1992</td>\n",
       "      <td>NaN</td>\n",
       "      <td>1711959.0</td>\n",
       "      <td>178571.0</td>\n",
       "      <td>958785.0</td>\n",
       "      <td>574603.0</td>\n",
       "      <td>1743022.0</td>\n",
       "      <td>964323.0</td>\n",
       "      <td>...</td>\n",
       "      <td>NaN</td>\n",
       "      <td>145212.0</td>\n",
       "      <td>808.0</td>\n",
       "      <td>33511.0</td>\n",
       "      <td>34632.0</td>\n",
       "      <td>36011.0</td>\n",
       "      <td>27651.0</td>\n",
       "      <td>NaN</td>\n",
       "      <td>NaN</td>\n",
       "      <td>441490.0</td>\n",
       "    </tr>\n",
       "    <tr>\n",
       "      <th>4</th>\n",
       "      <td>1992_CALIFORNIA</td>\n",
       "      <td>CALIFORNIA</td>\n",
       "      <td>1992</td>\n",
       "      <td>NaN</td>\n",
       "      <td>26260025.0</td>\n",
       "      <td>2072470.0</td>\n",
       "      <td>16546514.0</td>\n",
       "      <td>7641041.0</td>\n",
       "      <td>27138832.0</td>\n",
       "      <td>14358922.0</td>\n",
       "      <td>...</td>\n",
       "      <td>NaN</td>\n",
       "      <td>2044688.0</td>\n",
       "      <td>59067.0</td>\n",
       "      <td>431763.0</td>\n",
       "      <td>418418.0</td>\n",
       "      <td>363296.0</td>\n",
       "      <td>270675.0</td>\n",
       "      <td>NaN</td>\n",
       "      <td>NaN</td>\n",
       "      <td>5254844.0</td>\n",
       "    </tr>\n",
       "  </tbody>\n",
       "</table>\n",
       "<p>5 rows × 21 columns</p>\n",
       "</div>"
      ],
      "text/plain": [
       "       PRIMARY_KEY       STATE  YEAR  ENROLL  TOTAL_REVENUE  FEDERAL_REVENUE  \\\n",
       "0     1992_ALABAMA     ALABAMA  1992     NaN      2678885.0         304177.0   \n",
       "1      1992_ALASKA      ALASKA  1992     NaN      1049591.0         106780.0   \n",
       "2     1992_ARIZONA     ARIZONA  1992     NaN      3258079.0         297888.0   \n",
       "3    1992_ARKANSAS    ARKANSAS  1992     NaN      1711959.0         178571.0   \n",
       "4  1992_CALIFORNIA  CALIFORNIA  1992     NaN     26260025.0        2072470.0   \n",
       "\n",
       "   STATE_REVENUE  LOCAL_REVENUE  TOTAL_EXPENDITURE  INSTRUCTION_EXPENDITURE  \\\n",
       "0      1659028.0       715680.0          2653798.0                1481703.0   \n",
       "1       720711.0       222100.0           972488.0                 498362.0   \n",
       "2      1369815.0      1590376.0          3401580.0                1435908.0   \n",
       "3       958785.0       574603.0          1743022.0                 964323.0   \n",
       "4     16546514.0      7641041.0         27138832.0               14358922.0   \n",
       "\n",
       "   ...  OTHER_EXPENDITURE  CAPITAL_OUTLAY_EXPENDITURE  GRADES_PK_G  \\\n",
       "0  ...                NaN                    174053.0       8224.0   \n",
       "1  ...                NaN                     37451.0       2371.0   \n",
       "2  ...                NaN                    609114.0       2544.0   \n",
       "3  ...                NaN                    145212.0        808.0   \n",
       "4  ...                NaN                   2044688.0      59067.0   \n",
       "\n",
       "   GRADES_KG_G  GRADES_4_G  GRADES_8_G  GRADES_12_G  GRADES_1_8_G  \\\n",
       "0      55460.0     57948.0     58025.0      41167.0           NaN   \n",
       "1      10152.0      9748.0      8789.0       6714.0           NaN   \n",
       "2      53497.0     55433.0     49081.0      37410.0           NaN   \n",
       "3      33511.0     34632.0     36011.0      27651.0           NaN   \n",
       "4     431763.0    418418.0    363296.0     270675.0           NaN   \n",
       "\n",
       "   GRADES_9_12_G  GRADES_ALL_G  \n",
       "0            NaN      731634.0  \n",
       "1            NaN      122487.0  \n",
       "2            NaN      673477.0  \n",
       "3            NaN      441490.0  \n",
       "4            NaN     5254844.0  \n",
       "\n",
       "[5 rows x 21 columns]"
      ]
     },
     "execution_count": 5,
     "metadata": {},
     "output_type": "execute_result"
    }
   ],
   "source": [
    "df.drop(cols_to_drop, axis=1, inplace=True) # drop columns\n",
    "df.head()"
   ]
  },
  {
   "cell_type": "code",
   "execution_count": 6,
   "metadata": {},
   "outputs": [
    {
     "data": {
      "text/html": [
       "<div>\n",
       "<style scoped>\n",
       "    .dataframe tbody tr th:only-of-type {\n",
       "        vertical-align: middle;\n",
       "    }\n",
       "\n",
       "    .dataframe tbody tr th {\n",
       "        vertical-align: top;\n",
       "    }\n",
       "\n",
       "    .dataframe thead th {\n",
       "        text-align: right;\n",
       "    }\n",
       "</style>\n",
       "<table border=\"1\" class=\"dataframe\">\n",
       "  <thead>\n",
       "    <tr style=\"text-align: right;\">\n",
       "      <th></th>\n",
       "      <th>data type</th>\n",
       "      <th>No. of categories</th>\n",
       "      <th>No. of categories %</th>\n",
       "      <th>missing values</th>\n",
       "      <th>missing values %</th>\n",
       "    </tr>\n",
       "  </thead>\n",
       "  <tbody>\n",
       "    <tr>\n",
       "      <th>GRADES_1_8_G</th>\n",
       "      <td>float64</td>\n",
       "      <td>1020</td>\n",
       "      <td>59.48</td>\n",
       "      <td>695</td>\n",
       "      <td>40.52</td>\n",
       "    </tr>\n",
       "    <tr>\n",
       "      <th>GRADES_9_12_G</th>\n",
       "      <td>float64</td>\n",
       "      <td>1070</td>\n",
       "      <td>62.39</td>\n",
       "      <td>644</td>\n",
       "      <td>37.55</td>\n",
       "    </tr>\n",
       "    <tr>\n",
       "      <th>ENROLL</th>\n",
       "      <td>float64</td>\n",
       "      <td>1224</td>\n",
       "      <td>71.37</td>\n",
       "      <td>491</td>\n",
       "      <td>28.63</td>\n",
       "    </tr>\n",
       "    <tr>\n",
       "      <th>OTHER_EXPENDITURE</th>\n",
       "      <td>float64</td>\n",
       "      <td>1222</td>\n",
       "      <td>71.25</td>\n",
       "      <td>491</td>\n",
       "      <td>28.63</td>\n",
       "    </tr>\n",
       "    <tr>\n",
       "      <th>SUPPORT_SERVICES_EXPENDITURE</th>\n",
       "      <td>float64</td>\n",
       "      <td>1275</td>\n",
       "      <td>74.34</td>\n",
       "      <td>440</td>\n",
       "      <td>25.66</td>\n",
       "    </tr>\n",
       "    <tr>\n",
       "      <th>TOTAL_REVENUE</th>\n",
       "      <td>float64</td>\n",
       "      <td>1274</td>\n",
       "      <td>74.29</td>\n",
       "      <td>440</td>\n",
       "      <td>25.66</td>\n",
       "    </tr>\n",
       "    <tr>\n",
       "      <th>FEDERAL_REVENUE</th>\n",
       "      <td>float64</td>\n",
       "      <td>1275</td>\n",
       "      <td>74.34</td>\n",
       "      <td>440</td>\n",
       "      <td>25.66</td>\n",
       "    </tr>\n",
       "    <tr>\n",
       "      <th>STATE_REVENUE</th>\n",
       "      <td>float64</td>\n",
       "      <td>1251</td>\n",
       "      <td>72.94</td>\n",
       "      <td>440</td>\n",
       "      <td>25.66</td>\n",
       "    </tr>\n",
       "    <tr>\n",
       "      <th>LOCAL_REVENUE</th>\n",
       "      <td>float64</td>\n",
       "      <td>1275</td>\n",
       "      <td>74.34</td>\n",
       "      <td>440</td>\n",
       "      <td>25.66</td>\n",
       "    </tr>\n",
       "    <tr>\n",
       "      <th>TOTAL_EXPENDITURE</th>\n",
       "      <td>float64</td>\n",
       "      <td>1275</td>\n",
       "      <td>74.34</td>\n",
       "      <td>440</td>\n",
       "      <td>25.66</td>\n",
       "    </tr>\n",
       "    <tr>\n",
       "      <th>INSTRUCTION_EXPENDITURE</th>\n",
       "      <td>float64</td>\n",
       "      <td>1275</td>\n",
       "      <td>74.34</td>\n",
       "      <td>440</td>\n",
       "      <td>25.66</td>\n",
       "    </tr>\n",
       "    <tr>\n",
       "      <th>CAPITAL_OUTLAY_EXPENDITURE</th>\n",
       "      <td>float64</td>\n",
       "      <td>1275</td>\n",
       "      <td>74.34</td>\n",
       "      <td>440</td>\n",
       "      <td>25.66</td>\n",
       "    </tr>\n",
       "    <tr>\n",
       "      <th>GRADES_PK_G</th>\n",
       "      <td>float64</td>\n",
       "      <td>1483</td>\n",
       "      <td>86.47</td>\n",
       "      <td>173</td>\n",
       "      <td>10.09</td>\n",
       "    </tr>\n",
       "    <tr>\n",
       "      <th>GRADES_8_G</th>\n",
       "      <td>float64</td>\n",
       "      <td>1620</td>\n",
       "      <td>94.46</td>\n",
       "      <td>83</td>\n",
       "      <td>4.84</td>\n",
       "    </tr>\n",
       "    <tr>\n",
       "      <th>GRADES_12_G</th>\n",
       "      <td>float64</td>\n",
       "      <td>1608</td>\n",
       "      <td>93.76</td>\n",
       "      <td>83</td>\n",
       "      <td>4.84</td>\n",
       "    </tr>\n",
       "    <tr>\n",
       "      <th>GRADES_ALL_G</th>\n",
       "      <td>float64</td>\n",
       "      <td>1629</td>\n",
       "      <td>94.99</td>\n",
       "      <td>83</td>\n",
       "      <td>4.84</td>\n",
       "    </tr>\n",
       "    <tr>\n",
       "      <th>GRADES_4_G</th>\n",
       "      <td>float64</td>\n",
       "      <td>1612</td>\n",
       "      <td>93.99</td>\n",
       "      <td>83</td>\n",
       "      <td>4.84</td>\n",
       "    </tr>\n",
       "    <tr>\n",
       "      <th>GRADES_KG_G</th>\n",
       "      <td>float64</td>\n",
       "      <td>1613</td>\n",
       "      <td>94.05</td>\n",
       "      <td>83</td>\n",
       "      <td>4.84</td>\n",
       "    </tr>\n",
       "  </tbody>\n",
       "</table>\n",
       "</div>"
      ],
      "text/plain": [
       "                             data type  No. of categories  \\\n",
       "GRADES_1_8_G                   float64               1020   \n",
       "GRADES_9_12_G                  float64               1070   \n",
       "ENROLL                         float64               1224   \n",
       "OTHER_EXPENDITURE              float64               1222   \n",
       "SUPPORT_SERVICES_EXPENDITURE   float64               1275   \n",
       "TOTAL_REVENUE                  float64               1274   \n",
       "FEDERAL_REVENUE                float64               1275   \n",
       "STATE_REVENUE                  float64               1251   \n",
       "LOCAL_REVENUE                  float64               1275   \n",
       "TOTAL_EXPENDITURE              float64               1275   \n",
       "INSTRUCTION_EXPENDITURE        float64               1275   \n",
       "CAPITAL_OUTLAY_EXPENDITURE     float64               1275   \n",
       "GRADES_PK_G                    float64               1483   \n",
       "GRADES_8_G                     float64               1620   \n",
       "GRADES_12_G                    float64               1608   \n",
       "GRADES_ALL_G                   float64               1629   \n",
       "GRADES_4_G                     float64               1612   \n",
       "GRADES_KG_G                    float64               1613   \n",
       "\n",
       "                              No. of categories %  missing values  \\\n",
       "GRADES_1_8_G                                59.48             695   \n",
       "GRADES_9_12_G                               62.39             644   \n",
       "ENROLL                                      71.37             491   \n",
       "OTHER_EXPENDITURE                           71.25             491   \n",
       "SUPPORT_SERVICES_EXPENDITURE                74.34             440   \n",
       "TOTAL_REVENUE                               74.29             440   \n",
       "FEDERAL_REVENUE                             74.34             440   \n",
       "STATE_REVENUE                               72.94             440   \n",
       "LOCAL_REVENUE                               74.34             440   \n",
       "TOTAL_EXPENDITURE                           74.34             440   \n",
       "INSTRUCTION_EXPENDITURE                     74.34             440   \n",
       "CAPITAL_OUTLAY_EXPENDITURE                  74.34             440   \n",
       "GRADES_PK_G                                 86.47             173   \n",
       "GRADES_8_G                                  94.46              83   \n",
       "GRADES_12_G                                 93.76              83   \n",
       "GRADES_ALL_G                                94.99              83   \n",
       "GRADES_4_G                                  93.99              83   \n",
       "GRADES_KG_G                                 94.05              83   \n",
       "\n",
       "                              missing values %  \n",
       "GRADES_1_8_G                             40.52  \n",
       "GRADES_9_12_G                            37.55  \n",
       "ENROLL                                   28.63  \n",
       "OTHER_EXPENDITURE                        28.63  \n",
       "SUPPORT_SERVICES_EXPENDITURE             25.66  \n",
       "TOTAL_REVENUE                            25.66  \n",
       "FEDERAL_REVENUE                          25.66  \n",
       "STATE_REVENUE                            25.66  \n",
       "LOCAL_REVENUE                            25.66  \n",
       "TOTAL_EXPENDITURE                        25.66  \n",
       "INSTRUCTION_EXPENDITURE                  25.66  \n",
       "CAPITAL_OUTLAY_EXPENDITURE               25.66  \n",
       "GRADES_PK_G                              10.09  \n",
       "GRADES_8_G                                4.84  \n",
       "GRADES_12_G                               4.84  \n",
       "GRADES_ALL_G                              4.84  \n",
       "GRADES_4_G                                4.84  \n",
       "GRADES_KG_G                               4.84  "
      ]
     },
     "execution_count": 6,
     "metadata": {},
     "output_type": "execute_result"
    }
   ],
   "source": [
    "# build new dataframe with the data types and counts\n",
    "\n",
    "edu_datatype = pd.concat([df.dtypes, df.nunique(), round(df.nunique()*100/len(df), 2),\n",
    "                          df.isnull().sum(), round(df.isnull().sum()*100/len(df), 2)], axis=1)\n",
    "edu_datatype.columns = ['data type', 'No. of categories',\n",
    "                        'No. of categories %', 'missing values', 'missing values %']\n",
    "edu_datatype.sort_values(by='missing values %', ascending=False, inplace=True)\n",
    "\n",
    "edu_datatype = edu_datatype.loc[edu_datatype['missing values'] != 0]\n",
    "\n",
    "edu_datatype\n"
   ]
  },
  {
   "cell_type": "code",
   "execution_count": 7,
   "metadata": {},
   "outputs": [
    {
     "data": {
      "text/plain": [
       "Index(['GRADES_1_8_G', 'GRADES_9_12_G', 'ENROLL', 'OTHER_EXPENDITURE',\n",
       "       'SUPPORT_SERVICES_EXPENDITURE', 'TOTAL_REVENUE', 'FEDERAL_REVENUE',\n",
       "       'STATE_REVENUE', 'LOCAL_REVENUE', 'TOTAL_EXPENDITURE',\n",
       "       'INSTRUCTION_EXPENDITURE', 'CAPITAL_OUTLAY_EXPENDITURE', 'GRADES_PK_G',\n",
       "       'GRADES_8_G', 'GRADES_12_G', 'GRADES_ALL_G', 'GRADES_4_G',\n",
       "       'GRADES_KG_G'],\n",
       "      dtype='object')"
      ]
     },
     "execution_count": 7,
     "metadata": {},
     "output_type": "execute_result"
    }
   ],
   "source": [
    "edu_datatype.index"
   ]
  },
  {
   "cell_type": "code",
   "execution_count": 8,
   "metadata": {},
   "outputs": [],
   "source": [
    "df_time_series_imputed_median = df.copy(deep=True)\n",
    "\n",
    "for col in df.columns:\n",
    "    if col in edu_datatype.index:\n",
    "        df_time_series_imputed_median[col] = df_time_series_imputed_median[col].fillna(df_time_series_imputed_median[col].median())\n"
   ]
  },
  {
   "cell_type": "code",
   "execution_count": 9,
   "metadata": {},
   "outputs": [
    {
     "data": {
      "text/plain": [
       "PRIMARY_KEY                     0.0\n",
       "STATE                           0.0\n",
       "YEAR                            0.0\n",
       "ENROLL                          0.0\n",
       "TOTAL_REVENUE                   0.0\n",
       "FEDERAL_REVENUE                 0.0\n",
       "STATE_REVENUE                   0.0\n",
       "LOCAL_REVENUE                   0.0\n",
       "TOTAL_EXPENDITURE               0.0\n",
       "INSTRUCTION_EXPENDITURE         0.0\n",
       "SUPPORT_SERVICES_EXPENDITURE    0.0\n",
       "OTHER_EXPENDITURE               0.0\n",
       "CAPITAL_OUTLAY_EXPENDITURE      0.0\n",
       "GRADES_PK_G                     0.0\n",
       "GRADES_KG_G                     0.0\n",
       "GRADES_4_G                      0.0\n",
       "GRADES_8_G                      0.0\n",
       "GRADES_12_G                     0.0\n",
       "GRADES_1_8_G                    0.0\n",
       "GRADES_9_12_G                   0.0\n",
       "GRADES_ALL_G                    0.0\n",
       "dtype: float64"
      ]
     },
     "execution_count": 9,
     "metadata": {},
     "output_type": "execute_result"
    }
   ],
   "source": [
    "df_time_series_imputed_median.isnull().sum()/len(df_time_series_imputed_median)\n"
   ]
  },
  {
   "cell_type": "code",
   "execution_count": 11,
   "metadata": {},
   "outputs": [
    {
     "data": {
      "text/html": [
       "<div>\n",
       "<style scoped>\n",
       "    .dataframe tbody tr th:only-of-type {\n",
       "        vertical-align: middle;\n",
       "    }\n",
       "\n",
       "    .dataframe tbody tr th {\n",
       "        vertical-align: top;\n",
       "    }\n",
       "\n",
       "    .dataframe thead th {\n",
       "        text-align: right;\n",
       "    }\n",
       "</style>\n",
       "<table border=\"1\" class=\"dataframe\">\n",
       "  <thead>\n",
       "    <tr style=\"text-align: right;\">\n",
       "      <th></th>\n",
       "      <th>TOTAL_REVENUE</th>\n",
       "      <th>TOTAL_EXPENDITURE</th>\n",
       "    </tr>\n",
       "  </thead>\n",
       "  <tbody>\n",
       "    <tr>\n",
       "      <th>0</th>\n",
       "      <td>2678885.0</td>\n",
       "      <td>2653798.0</td>\n",
       "    </tr>\n",
       "    <tr>\n",
       "      <th>1</th>\n",
       "      <td>1049591.0</td>\n",
       "      <td>972488.0</td>\n",
       "    </tr>\n",
       "    <tr>\n",
       "      <th>2</th>\n",
       "      <td>3258079.0</td>\n",
       "      <td>3401580.0</td>\n",
       "    </tr>\n",
       "    <tr>\n",
       "      <th>3</th>\n",
       "      <td>1711959.0</td>\n",
       "      <td>1743022.0</td>\n",
       "    </tr>\n",
       "    <tr>\n",
       "      <th>4</th>\n",
       "      <td>26260025.0</td>\n",
       "      <td>27138832.0</td>\n",
       "    </tr>\n",
       "    <tr>\n",
       "      <th>...</th>\n",
       "      <td>...</td>\n",
       "      <td>...</td>\n",
       "    </tr>\n",
       "    <tr>\n",
       "      <th>1710</th>\n",
       "      <td>5085826.0</td>\n",
       "      <td>5242672.0</td>\n",
       "    </tr>\n",
       "    <tr>\n",
       "      <th>1711</th>\n",
       "      <td>5085826.0</td>\n",
       "      <td>5242672.0</td>\n",
       "    </tr>\n",
       "    <tr>\n",
       "      <th>1712</th>\n",
       "      <td>5085826.0</td>\n",
       "      <td>5242672.0</td>\n",
       "    </tr>\n",
       "    <tr>\n",
       "      <th>1713</th>\n",
       "      <td>5085826.0</td>\n",
       "      <td>5242672.0</td>\n",
       "    </tr>\n",
       "    <tr>\n",
       "      <th>1714</th>\n",
       "      <td>5085826.0</td>\n",
       "      <td>5242672.0</td>\n",
       "    </tr>\n",
       "  </tbody>\n",
       "</table>\n",
       "<p>1715 rows × 2 columns</p>\n",
       "</div>"
      ],
      "text/plain": [
       "      TOTAL_REVENUE  TOTAL_EXPENDITURE\n",
       "0         2678885.0          2653798.0\n",
       "1         1049591.0           972488.0\n",
       "2         3258079.0          3401580.0\n",
       "3         1711959.0          1743022.0\n",
       "4        26260025.0         27138832.0\n",
       "...             ...                ...\n",
       "1710      5085826.0          5242672.0\n",
       "1711      5085826.0          5242672.0\n",
       "1712      5085826.0          5242672.0\n",
       "1713      5085826.0          5242672.0\n",
       "1714      5085826.0          5242672.0\n",
       "\n",
       "[1715 rows x 2 columns]"
      ]
     },
     "execution_count": 11,
     "metadata": {},
     "output_type": "execute_result"
    }
   ],
   "source": [
    "df_time_series_imputed_median_part = df_time_series_imputed_median.loc[:, ['TOTAL_REVENUE', 'TOTAL_EXPENDITURE']]\n",
    "df_time_series_imputed_median_part\n"
   ]
  },
  {
   "cell_type": "code",
   "execution_count": 12,
   "metadata": {},
   "outputs": [
    {
     "data": {
      "image/png": "[encoded data removed]",
      "text/plain": [
       "<Figure size 432x288 with 1 Axes>"
      ]
     },
     "metadata": {
      "needs_background": "light"
     },
     "output_type": "display_data"
    }
   ],
   "source": [
    "plt.hist(df_time_series_imputed_median_part, alpha=0.5, bins=30)\n",
    "plt.show()\n",
    "\n"
   ]
  },
  {
   "cell_type": "code",
   "execution_count": 13,
   "metadata": {},
   "outputs": [
    {
     "data": {
      "text/plain": [
       "<AxesSubplot:>"
      ]
     },
     "execution_count": 13,
     "metadata": {},
     "output_type": "execute_result"
    },
    {
     "data": {
      "image/png": "[encoded data removed]",
      "text/plain": [
       "<Figure size 432x288 with 1 Axes>"
      ]
     },
     "metadata": {
      "needs_background": "light"
     },
     "output_type": "display_data"
    }
   ],
   "source": [
    "df_time_series_imputed_median_part.plot(kind='box')\n",
    "\n",
    "# TOTAL_REVENUE and TOTAL_EXPENDITURE have outlier values\n"
   ]
  },
  {
   "cell_type": "markdown",
   "metadata": {},
   "source": [
    "2. If you detect outliers in the TOTAL_REVENUE and TOTAL_EXPENDITURE variables, apply the techniques you learned in this checkpoint to eliminate them and validate that there are no outlier values after you handled them.\n",
    "\n"
   ]
  },
  {
   "cell_type": "code",
   "execution_count": 12,
   "metadata": {},
   "outputs": [
    {
     "data": {
      "text/plain": [
       "(array([[  3.,  10.,  21.,  30.,  37.,  59.,  46.,  64.,  62.,  56.,  66.,\n",
       "          59.,  81., 506.,  86.,  71.,  80.,  61.,  59.,  58.,  36.,  37.,\n",
       "          34.,  38.,  10.,   7.,  10.,  15.,  11.,   2.],\n",
       "        [  3.,  10.,  24.,  26.,  39.,  54.,  48.,  65.,  63.,  62.,  60.,\n",
       "          56.,  77., 504.,  87.,  73.,  81.,  72.,  57.,  51.,  40.,  36.,\n",
       "          31.,  38.,   9.,  10.,  10.,  15.,  11.,   3.]]),\n",
       " array([13.05118956, 13.22636941, 13.40154926, 13.57672911, 13.75190896,\n",
       "        13.92708881, 14.10226867, 14.27744852, 14.45262837, 14.62780822,\n",
       "        14.80298807, 14.97816792, 15.15334777, 15.32852763, 15.50370748,\n",
       "        15.67888733, 15.85406718, 16.02924703, 16.20442688, 16.37960673,\n",
       "        16.55478659, 16.72996644, 16.90514629, 17.08032614, 17.25550599,\n",
       "        17.43068584, 17.60586569, 17.78104554, 17.9562254 , 18.13140525,\n",
       "        18.3065851 ]),\n",
       " <a list of 2 BarContainer objects>)"
      ]
     },
     "execution_count": 12,
     "metadata": {},
     "output_type": "execute_result"
    },
    {
     "data": {
      "image/png": "[encoded data removed]",
      "text/plain": [
       "<Figure size 432x288 with 1 Axes>"
      ]
     },
     "metadata": {
      "needs_background": "light"
     },
     "output_type": "display_data"
    }
   ],
   "source": [
    "plt.hist(np.log(df_time_series_imputed_median_part), alpha=0.5, bins=30)\n"
   ]
  },
  {
   "cell_type": "code",
   "execution_count": 13,
   "metadata": {},
   "outputs": [
    {
     "data": {
      "text/plain": [
       "<AxesSubplot:>"
      ]
     },
     "execution_count": 13,
     "metadata": {},
     "output_type": "execute_result"
    },
    {
     "data": {
      "image/png": "[encoded data removed]",
      "text/plain": [
       "<Figure size 432x288 with 1 Axes>"
      ]
     },
     "metadata": {
      "needs_background": "light"
     },
     "output_type": "display_data"
    }
   ],
   "source": [
    "np.log(df_time_series_imputed_median_part).plot(kind='box')\n"
   ]
  },
  {
   "cell_type": "code",
   "execution_count": 15,
   "metadata": {},
   "outputs": [
    {
     "data": {
      "image/png": "[encoded data removed]",
      "text/plain": [
       "<Figure size 1440x360 with 2 Axes>"
      ]
     },
     "metadata": {
      "needs_background": "light"
     },
     "output_type": "display_data"
    }
   ],
   "source": [
    "#Soudeh: use zscore to idenfity outliers\n",
    "\n",
    "from scipy.stats import zscore \n",
    "\n",
    "z_score = zscore(df_time_series_imputed_median['TOTAL_REVENUE'])\n",
    "\n",
    "fig, ax = plt.subplots(1,2,figsize=(20,5))\n",
    "sns.histplot(df_time_series_imputed_median['TOTAL_REVENUE'],\n",
    "             color='blue', ax=ax[0], label='original distribution', bins=10)\n",
    "sns.histplot(z_score, color='black', ax=ax[1], label='standard normal distribution', bins=10)\n",
    "Line = pd.Series(np.ones(len(df))*3, index=df_time_series_imputed_median.index)\n",
    "sns.scatterplot(x=Line.values, y=Line.index, ax=ax[1], color='red')\n",
    "plt.legend()\n",
    "plt.show()"
   ]
  },
  {
   "cell_type": "code",
   "execution_count": 16,
   "metadata": {},
   "outputs": [
    {
     "data": {
      "text/plain": [
       "0        2678885.0\n",
       "1        1049591.0\n",
       "2        3258079.0\n",
       "3        1711959.0\n",
       "4       26260025.0\n",
       "           ...    \n",
       "1710           NaN\n",
       "1711           NaN\n",
       "1712           NaN\n",
       "1713           NaN\n",
       "1714           NaN\n",
       "Name: TOTAL_REVENUE, Length: 1715, dtype: float64"
      ]
     },
     "execution_count": 16,
     "metadata": {},
     "output_type": "execute_result"
    }
   ],
   "source": [
    "df['TOTAL_REVENUE']\n"
   ]
  },
  {
   "cell_type": "code",
   "execution_count": 88,
   "metadata": {},
   "outputs": [
    {
     "name": "stdout",
     "output_type": "stream",
     "text": [
      "The score threshold is 1\n",
      "The indices of the outliers: \n",
      "Number of outlilers is: 164\n",
      "------------------------------------------------------------------------------------------------------------------------\n",
      "The score threshold is 2\n",
      "The indices of the outliers: \n",
      "Number of outlilers is: 70\n",
      "------------------------------------------------------------------------------------------------------------------------\n",
      "The score threshold is 3\n",
      "The indices of the outliers: \n",
      "Number of outlilers is: 43\n",
      "------------------------------------------------------------------------------------------------------------------------\n",
      "The score threshold is 4\n",
      "The indices of the outliers: \n",
      "Number of outlilers is: 33\n",
      "------------------------------------------------------------------------------------------------------------------------\n"
     ]
    }
   ],
   "source": [
    "for i in range(1,5):\n",
    "    print(\"The score threshold is {}\".format(i))\n",
    "    print(\"The indices of the outliers: \")\n",
    "    print(\"Number of outlilers is: {}\".format(len((np.where(z_score > i)[0]))))\n",
    "    print(\"---\"*40)"
   ]
  },
  {
   "cell_type": "code",
   "execution_count": 17,
   "metadata": {},
   "outputs": [
    {
     "data": {
      "text/plain": [
       "count    1.715000e+03\n",
       "mean     6.598210e+06\n",
       "std      4.994703e+06\n",
       "min      4.816650e+05\n",
       "25%      3.004448e+06\n",
       "50%      5.242672e+06\n",
       "75%      8.220253e+06\n",
       "max      1.766835e+07\n",
       "Name: Total_EXPENDITURE_winsorizing, dtype: float64"
      ]
     },
     "execution_count": 17,
     "metadata": {},
     "output_type": "execute_result"
    }
   ],
   "source": [
    "# use winsorize\n",
    "\n",
    "from scipy.stats.mstats import winsorize\n",
    "\n",
    "df_time_series_imputed_median['Total_Revenue_winsorizing'] = winsorize(\n",
    "    np.array(df_time_series_imputed_median['TOTAL_REVENUE'].dropna()), (0.0, 0.10))\n",
    "df_time_series_imputed_median['Total_EXPENDITURE_winsorizing'] = winsorize(\n",
    "    np.array(df_time_series_imputed_median['TOTAL_EXPENDITURE']), (0.0, 0.10))\n",
    "df_time_series_imputed_median['Total_Revenue_winsorizing'].describe()\n",
    "df_time_series_imputed_median['Total_EXPENDITURE_winsorizing'].describe()\n"
   ]
  },
  {
   "cell_type": "code",
   "execution_count": 22,
   "metadata": {},
   "outputs": [],
   "source": [
    "\n",
    "p25_log, p75_log = np.percentile(\n",
    "    np.log(df_time_series_imputed_median['TOTAL_REVENUE']), [25,75])\n",
    "p25, p75 = np.percentile(df_time_series_imputed_median['TOTAL_REVENUE'], [25,75])\n",
    "\n",
    "IQR_log = p75_log - p25_log \n",
    "IQR = p75 - p25\n",
    "\n",
    "log_threshold_values = []\n",
    "\n",
    "for threshold_value in np.arange(1,5,0.5):\n",
    "    min_value_log = p25_log - (IQR_log*threshold_value)\n",
    "    max_value_log = p75_log + (IQR_log*threshold_value)\n",
    "    min_value = p25 - (IQR*threshold_value)\n",
    "    max_value = p75 + (IQR*threshold_value)\n",
    "    \n",
    "    outlier_value_number_log = len(np.where((np.log(df_time_series_imputed_median['TOTAL_REVENUE']) > max_value_log) | \n",
    "                                            (np.log(df_time_series_imputed_median['TOTAL_REVENUE']) < min_value_log))[0])\n",
    "    outlier_value_number = len(np.where((df_time_series_imputed_median['TOTAL_REVENUE'] > max_value) | \n",
    "                                        (df_time_series_imputed_median['TOTAL_REVENUE'] < min_value))[0])\n",
    "    log_threshold_values.append({'threshold_value':threshold_value,\n",
    "                                 'outlier_value_number': outlier_value_number,\n",
    "                                 'outlier_value_number_log': outlier_value_number_log})\n",
    "    \n",
    "df_outliers = pd.DataFrame(log_threshold_values)\n",
    "    "
   ]
  },
  {
   "cell_type": "code",
   "execution_count": 23,
   "metadata": {},
   "outputs": [
    {
     "data": {
      "text/html": [
       "<div>\n",
       "<style scoped>\n",
       "    .dataframe tbody tr th:only-of-type {\n",
       "        vertical-align: middle;\n",
       "    }\n",
       "\n",
       "    .dataframe tbody tr th {\n",
       "        vertical-align: top;\n",
       "    }\n",
       "\n",
       "    .dataframe thead th {\n",
       "        text-align: right;\n",
       "    }\n",
       "</style>\n",
       "<table border=\"1\" class=\"dataframe\">\n",
       "  <thead>\n",
       "    <tr style=\"text-align: right;\">\n",
       "      <th></th>\n",
       "      <th>threshold_value</th>\n",
       "      <th>outlier_value_number</th>\n",
       "      <th>outlier_value_number_log</th>\n",
       "    </tr>\n",
       "  </thead>\n",
       "  <tbody>\n",
       "    <tr>\n",
       "      <th>0</th>\n",
       "      <td>1.0</td>\n",
       "      <td>246</td>\n",
       "      <td>218</td>\n",
       "    </tr>\n",
       "    <tr>\n",
       "      <th>1</th>\n",
       "      <td>1.5</td>\n",
       "      <td>195</td>\n",
       "      <td>58</td>\n",
       "    </tr>\n",
       "    <tr>\n",
       "      <th>2</th>\n",
       "      <td>2.0</td>\n",
       "      <td>161</td>\n",
       "      <td>15</td>\n",
       "    </tr>\n",
       "    <tr>\n",
       "      <th>3</th>\n",
       "      <td>2.5</td>\n",
       "      <td>132</td>\n",
       "      <td>0</td>\n",
       "    </tr>\n",
       "    <tr>\n",
       "      <th>4</th>\n",
       "      <td>3.0</td>\n",
       "      <td>111</td>\n",
       "      <td>0</td>\n",
       "    </tr>\n",
       "    <tr>\n",
       "      <th>5</th>\n",
       "      <td>3.5</td>\n",
       "      <td>90</td>\n",
       "      <td>0</td>\n",
       "    </tr>\n",
       "    <tr>\n",
       "      <th>6</th>\n",
       "      <td>4.0</td>\n",
       "      <td>70</td>\n",
       "      <td>0</td>\n",
       "    </tr>\n",
       "    <tr>\n",
       "      <th>7</th>\n",
       "      <td>4.5</td>\n",
       "      <td>54</td>\n",
       "      <td>0</td>\n",
       "    </tr>\n",
       "  </tbody>\n",
       "</table>\n",
       "</div>"
      ],
      "text/plain": [
       "   threshold_value  outlier_value_number  outlier_value_number_log\n",
       "0              1.0                   246                       218\n",
       "1              1.5                   195                        58\n",
       "2              2.0                   161                        15\n",
       "3              2.5                   132                         0\n",
       "4              3.0                   111                         0\n",
       "5              3.5                    90                         0\n",
       "6              4.0                    70                         0\n",
       "7              4.5                    54                         0"
      ]
     },
     "execution_count": 23,
     "metadata": {},
     "output_type": "execute_result"
    }
   ],
   "source": [
    "df_outliers\n"
   ]
  },
  {
   "cell_type": "code",
   "execution_count": 25,
   "metadata": {},
   "outputs": [
    {
     "data": {
      "text/plain": [
       "Text(0, 0.5, 'No of outliers')"
      ]
     },
     "execution_count": 25,
     "metadata": {},
     "output_type": "execute_result"
    },
    {
     "data": {
      "image/png": "[encoded data removed]",
      "text/plain": [
       "<Figure size 432x288 with 1 Axes>"
      ]
     },
     "metadata": {
      "needs_background": "light"
     },
     "output_type": "display_data"
    }
   ],
   "source": [
    "df_outliers.plot(x='threshold_value', y=['outlier_value_number', 'outlier_value_number_log'])\n",
    "plt.ylabel('No of outliers')"
   ]
  },
  {
   "cell_type": "markdown",
   "metadata": {},
   "source": [
    "3. Create another variable by subtracting the original TOTAL_EXPENDITURE from TOTAL_REVENUE (before you eliminated the outliers). You can think of it as a kind of budget deficit in education. Do you find any outlier values in this new variable? If so, eliminate them using the technique that think is most suitable.\n",
    "\n"
   ]
  },
  {
   "cell_type": "code",
   "execution_count": 26,
   "metadata": {},
   "outputs": [
    {
     "data": {
      "text/plain": [
       "<AxesSubplot:>"
      ]
     },
     "execution_count": 26,
     "metadata": {},
     "output_type": "execute_result"
    },
    {
     "data": {
      "image/png": "[encoded data removed]",
      "text/plain": [
       "<Figure size 432x288 with 1 Axes>"
      ]
     },
     "metadata": {
      "needs_background": "light"
     },
     "output_type": "display_data"
    }
   ],
   "source": [
    "df_time_series_imputed_median['Total_profit'] = df_time_series_imputed_median['TOTAL_REVENUE'] - \\\n",
    "    df_time_series_imputed_median['TOTAL_EXPENDITURE']\n",
    "df_time_series_imputed_median['Total_profit'].plot(kind='box')\n"
   ]
  },
  {
   "cell_type": "code",
   "execution_count": 27,
   "metadata": {},
   "outputs": [
    {
     "name": "stderr",
     "output_type": "stream",
     "text": [
      "/opt/homebrew/Caskroom/miniforge/base/envs/tf_M1/lib/python3.8/site-packages/pandas/core/arraylike.py:364: RuntimeWarning: invalid value encountered in log\n",
      "  result = getattr(ufunc, method)(*inputs, **kwargs)\n"
     ]
    },
    {
     "data": {
      "text/plain": [
       "<AxesSubplot:>"
      ]
     },
     "execution_count": 27,
     "metadata": {},
     "output_type": "execute_result"
    },
    {
     "data": {
      "image/png": "[encoded data removed]",
      "text/plain": [
       "<Figure size 432x288 with 1 Axes>"
      ]
     },
     "metadata": {
      "needs_background": "light"
     },
     "output_type": "display_data"
    }
   ],
   "source": [
    "np.log(df_time_series_imputed_median['Total_profit']).plot(kind='box')\n"
   ]
  },
  {
   "cell_type": "code",
   "execution_count": 28,
   "metadata": {},
   "outputs": [
    {
     "data": {
      "text/plain": [
       "(array([1.000e+00, 0.000e+00, 1.000e+00, 0.000e+00, 2.000e+00, 3.000e+00,\n",
       "        1.000e+00, 1.000e+00, 1.000e+00, 4.000e+00, 6.000e+00, 6.000e+00,\n",
       "        1.200e+01, 1.600e+01, 2.200e+01, 5.400e+01, 2.050e+02, 1.176e+03,\n",
       "        1.370e+02, 3.600e+01, 1.400e+01, 8.000e+00, 3.000e+00, 3.000e+00,\n",
       "        0.000e+00, 2.000e+00, 0.000e+00, 0.000e+00, 0.000e+00, 1.000e+00]),\n",
       " array([-10.83658675, -10.20530641,  -9.57402606,  -8.94274572,\n",
       "         -8.31146537,  -7.68018503,  -7.04890469,  -6.41762434,\n",
       "         -5.786344  ,  -5.15506365,  -4.52378331,  -3.89250297,\n",
       "         -3.26122262,  -2.62994228,  -1.99866193,  -1.36738159,\n",
       "         -0.73610125,  -0.1048209 ,   0.52645944,   1.15773979,\n",
       "          1.78902013,   2.42030047,   3.05158082,   3.68286116,\n",
       "          4.31414151,   4.94542185,   5.57670219,   6.20798254,\n",
       "          6.83926288,   7.47054323,   8.10182357]),\n",
       " <BarContainer object of 30 artists>)"
      ]
     },
     "execution_count": 28,
     "metadata": {},
     "output_type": "execute_result"
    },
    {
     "data": {
      "image/png": "[encoded data removed]",
      "text/plain": [
       "<Figure size 432x288 with 2 Axes>"
      ]
     },
     "metadata": {
      "needs_background": "light"
     },
     "output_type": "display_data"
    }
   ],
   "source": [
    "from scipy.stats import zscore \n",
    "\n",
    "zscore_profit = zscore(df_time_series_imputed_median['Total_profit'])\n",
    "\n",
    "plt.subplot(1, 2, 1)\n",
    "plt.hist(df_time_series_imputed_median['Total_profit'], bins=30)\n",
    "\n",
    "plt.subplot(1, 2, 2)\n",
    "plt.hist(zscore_profit, bins=30, color='orange')\n",
    "\n"
   ]
  },
  {
   "cell_type": "code",
   "execution_count": 117,
   "metadata": {},
   "outputs": [
    {
     "data": {
      "text/plain": [
       "(array([ 20.,   3.,   0.,   4.,   4.,   2.,   6.,   4.,   9.,   2.,   4.,\n",
       "         11.,  14.,   6.,  24.,  28.,  43.,  94., 581., 340., 282.,  92.,\n",
       "         36.,  31.,  21.,  18.,   4.,   8.,   2.,  22.]),\n",
       " array([-2149001.        , -2041434.06666667, -1933867.13333333,\n",
       "        -1826300.2       , -1718733.26666667, -1611166.33333333,\n",
       "        -1503599.4       , -1396032.46666667, -1288465.53333333,\n",
       "        -1180898.6       , -1073331.66666667,  -965764.73333333,\n",
       "         -858197.8       ,  -750630.86666667,  -643063.93333333,\n",
       "         -535497.        ,  -427930.06666667,  -320363.13333333,\n",
       "         -212796.2       ,  -105229.26666667,     2337.66666667,\n",
       "          109904.6       ,   217471.53333333,   325038.46666667,\n",
       "          432605.4       ,   540172.33333333,   647739.26666667,\n",
       "          755306.2       ,   862873.13333333,   970440.06666667,\n",
       "         1078007.        ]),\n",
       " <BarContainer object of 30 artists>)"
      ]
     },
     "execution_count": 117,
     "metadata": {},
     "output_type": "execute_result"
    },
    {
     "data": {
      "image/png": "[encoded data removed]",
      "text/plain": [
       "<Figure size 432x288 with 1 Axes>"
      ]
     },
     "metadata": {
      "needs_background": "light"
     },
     "output_type": "display_data"
    }
   ],
   "source": [
    "from scipy.stats.mstats import winsorize\n",
    "df_time_series_imputed_median['TOTAL_PROFIT_winsorization'] = winsorize(\n",
    "    np.array(df_time_series_imputed_median['Total_profit']), limits=0.01)\n",
    "plt.hist(df_time_series_imputed_median['TOTAL_PROFIT_winsorization'], bins=30)\n"
   ]
  },
  {
   "cell_type": "markdown",
   "metadata": {},
   "source": [
    "4. Now create another variable by subtracting the TOTAL_EXPENDITURE from TOTAL_REVENUE. This time, use the outlier eliminated versions of TOTAL_EXPENDITURE from TOTAL_REVENUE. In this newly created variable, can you find any outliers? If so, eliminate them.\n",
    "\n"
   ]
  },
  {
   "cell_type": "code",
   "execution_count": 30,
   "metadata": {},
   "outputs": [
    {
     "data": {
      "text/plain": [
       "<AxesSubplot:>"
      ]
     },
     "execution_count": 30,
     "metadata": {},
     "output_type": "execute_result"
    },
    {
     "data": {
      "image/png": "[encoded data removed]",
      "text/plain": [
       "<Figure size 432x288 with 1 Axes>"
      ]
     },
     "metadata": {
      "needs_background": "light"
     },
     "output_type": "display_data"
    }
   ],
   "source": [
    "#Soudeh\n",
    "deficit_df_log_individual = np.log(df_time_series_imputed_median['TOTAL_REVENUE']) - np.log(\n",
    "    df_time_series_imputed_median['TOTAL_EXPENDITURE'])\n",
    "\n",
    "deficit_df_log_individual.plot(kind='box')\n"
   ]
  },
  {
   "cell_type": "code",
   "execution_count": 31,
   "metadata": {},
   "outputs": [
    {
     "data": {
      "text/plain": [
       "<AxesSubplot:ylabel='Frequency'>"
      ]
     },
     "execution_count": 31,
     "metadata": {},
     "output_type": "execute_result"
    },
    {
     "data": {
      "image/png": "[encoded data removed]",
      "text/plain": [
       "<Figure size 432x288 with 1 Axes>"
      ]
     },
     "metadata": {
      "needs_background": "light"
     },
     "output_type": "display_data"
    }
   ],
   "source": [
    "deficit_df_log_individual.plot(kind='hist')"
   ]
  },
  {
   "cell_type": "code",
   "execution_count": null,
   "metadata": {},
   "outputs": [],
   "source": []
  },
  {
   "cell_type": "code",
   "execution_count": null,
   "metadata": {},
   "outputs": [],
   "source": [
    "df_time_series_imputed_median['Total_Revenue_winsorizing'] = winsorize(\n",
    "    np.array(df_time_series_imputed_median['TOTAL_REVENUE']), (0.0, 0.10))\n",
    "df_time_series_imputed_median['Total_EXPENDITURE_winsorizing'] = winsorize(\n",
    "    np.array(df_time_series_imputed_median['TOTAL_EXPENDITURE']), (0.0, 0.10))"
   ]
  },
  {
   "cell_type": "code",
   "execution_count": 119,
   "metadata": {},
   "outputs": [
    {
     "data": {
      "text/plain": [
       "<AxesSubplot:>"
      ]
     },
     "execution_count": 119,
     "metadata": {},
     "output_type": "execute_result"
    },
    {
     "data": {
      "image/png": "[encoded data removed]",
      "text/plain": [
       "<Figure size 432x288 with 1 Axes>"
      ]
     },
     "metadata": {
      "needs_background": "light"
     },
     "output_type": "display_data"
    }
   ],
   "source": [
    "df_time_series_imputed_median['Total_profit_WO_outliers'] = df_time_series_imputed_median['Total_Revenue_winsorizing'] - \\\n",
    "    df_time_series_imputed_median['Total_EXPENDITURE_winsorizing']\n",
    "df_time_series_imputed_median['Total_profit_WO_outliers'].plot(kind='box')\n"
   ]
  },
  {
   "cell_type": "code",
   "execution_count": 135,
   "metadata": {},
   "outputs": [
    {
     "data": {
      "text/plain": [
       "(array([1.000e+00, 1.200e+01, 8.000e+01, 1.237e+03, 3.520e+02, 2.300e+01,\n",
       "        7.000e+00, 0.000e+00, 1.000e+00, 2.000e+00]),\n",
       " array([-6.41701693, -4.67424318, -2.93146944, -1.18869569,  0.55407805,\n",
       "         2.29685179,  4.03962554,  5.78239928,  7.52517302,  9.26794677,\n",
       "        11.01072051]),\n",
       " <BarContainer object of 10 artists>)"
      ]
     },
     "execution_count": 135,
     "metadata": {},
     "output_type": "execute_result"
    },
    {
     "data": {
      "image/png": "[encoded data removed]",
      "text/plain": [
       "<Figure size 432x288 with 1 Axes>"
      ]
     },
     "metadata": {
      "needs_background": "light"
     },
     "output_type": "display_data"
    }
   ],
   "source": [
    "from scipy.stats import zscore \n",
    "\n",
    "zscore_Total_profit_WO_outliers = zscore(\n",
    "    df_time_series_imputed_median['Total_profit_WO_outliers'])\n",
    "\n",
    "plt.hist(zscore_Total_profit_WO_outliers)\n"
   ]
  },
  {
   "cell_type": "code",
   "execution_count": 134,
   "metadata": {},
   "outputs": [
    {
     "data": {
      "text/plain": [
       "(array([ 37.,  29.,  67., 577., 330., 325., 259.,  33.,  25.,  33.]),\n",
       " array([-629077. , -504087.1, -379097.2, -254107.3, -129117.4,   -4127.5,\n",
       "         120862.4,  245852.3,  370842.2,  495832.1,  620822. ]),\n",
       " <BarContainer object of 10 artists>)"
      ]
     },
     "execution_count": 134,
     "metadata": {},
     "output_type": "execute_result"
    },
    {
     "data": {
      "image/png": "[encoded data removed]",
      "text/plain": [
       "<Figure size 432x288 with 1 Axes>"
      ]
     },
     "metadata": {
      "needs_background": "light"
     },
     "output_type": "display_data"
    }
   ],
   "source": [
    "from scipy.stats.mstats import winsorize\n",
    "df_time_series_imputed_median['Total_profit_WO_outliers_winsorization'] = winsorize(\n",
    "    np.array(df_time_series_imputed_median['Total_profit_WO_outliers']), limits=0.01)\n",
    "plt.hist(df_time_series_imputed_median['Total_profit_WO_outliers_winsorization'])\n",
    "\n",
    "# why the plot shows many extreme values at two ends??? df_time_series_imputed_median['Total_profit_WO_outliers_winsorization'] = winsorize(np.array(df_time_series_imputed_median['Total_profit_WO_outliers']), (0.1,0.1))"
   ]
  },
  {
   "cell_type": "markdown",
   "metadata": {},
   "source": [
    "5. Compare some basic descriptive statistics of the budget variables you end up with in the third and the fourth questions. Do you see any differences?\n",
    "\n"
   ]
  },
  {
   "cell_type": "code",
   "execution_count": 32,
   "metadata": {},
   "outputs": [
    {
     "data": {
      "text/plain": [
       "Ttest_indResult(statistic=-9.833646615355004, pvalue=1.5969917087461992e-22)"
      ]
     },
     "execution_count": 32,
     "metadata": {},
     "output_type": "execute_result"
    }
   ],
   "source": [
    "from scipy.stats import ttest_ind\n",
    "ttest_ind(df_time_series_imputed_median['Total_profit'],\n",
    "          deficit_df_log_individual)\n",
    "\n",
    "# Yes, the results are significantly different."
   ]
  },
  {
   "cell_type": "code",
   "execution_count": null,
   "metadata": {},
   "outputs": [],
   "source": [
    "#Soudeh\n",
    "\n",
    "outlier_comparison_df = pd.concat([deficit_df.describe().describe(),\n",
    "                                  deficit_df_logscale.describe(),\n",
    "                                  deficit_df_log_individual.describe(),\n",
    "                                  deficit_df_log_individual_log.describe().describe()],\n",
    "                                  axis=1)\n"
   ]
  },
  {
   "cell_type": "markdown",
   "metadata": {},
   "source": [
    "6. If your variable of interest is the budget deficit variable, which method do you think is the most appropriate in dealing with the outliers in this variable: the method in the third question or the one in the fourth question?"
   ]
  },
  {
   "cell_type": "code",
   "execution_count": 137,
   "metadata": {},
   "outputs": [],
   "source": [
    "# The method from the 3rd quesion is more appropriate since I used the original data, thus less manipulation."
   ]
  },
  {
   "cell_type": "markdown",
   "metadata": {},
   "source": [
    "log transformation should be applied"
   ]
  },
  {
   "cell_type": "code",
   "execution_count": null,
   "metadata": {},
   "outputs": [],
   "source": [
    "\n"
   ]
  }
 ],
 "metadata": {
  "kernelspec": {
   "display_name": "Python 3.8.12 ('tf_M1')",
   "language": "python",
   "name": "python3"
  },
  "language_info": {
   "codemirror_mode": {
    "name": "ipython",
    "version": 3
   },
   "file_extension": ".py",
   "mimetype": "text/x-python",
   "name": "python",
   "nbconvert_exporter": "python",
   "pygments_lexer": "ipython3",
   "version": "3.8.12"
  },
  "orig_nbformat": 4,
  "vscode": {
   "interpreter": {
    "hash": "c472257139bf167f004cf9a82551caeb4bac94da13b8695221f38d43b2d81e5a"
   }
  }
 },
 "nbformat": 4,
 "nbformat_minor": 2
}
