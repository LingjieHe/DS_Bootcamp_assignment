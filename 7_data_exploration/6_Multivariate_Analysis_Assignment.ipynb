{
 "cells": [
  {
   "cell_type": "markdown",
   "metadata": {},
   "source": [
    "### 6_Multivariate Analysis Assignment"
   ]
  },
  {
   "cell_type": "markdown",
   "metadata": {},
   "source": [
    "In this assignment, you will continue to study the data of the US Education System (dataset). You can reach the explanations of this data from Kaggle again.\n",
    "\n",
    "To complete this assignment, submit the Github link of the Jupyter notebook file containing solutions to the questions below. You can talk to your mentor on your head or ask Slack at office time.\n",
    "\n",
    "1, Does the performance in the exams vary according to gender, origin and education level of parents?\n",
    "2, Does lunch type have a relationship with exam performances? How can you explain this, if any?\n",
    "3, Does the preparation courses have an impact on exam performance?\n",
    "4, Which lessons are most correlated with each other?\n"
   ]
  },
  {
   "cell_type": "code",
   "execution_count": null,
   "metadata": {},
   "outputs": [],
   "source": []
  }
 ],
 "metadata": {
  "kernelspec": {
   "display_name": "Python 3.9.12 64-bit",
   "language": "python",
   "name": "python3"
  },
  "language_info": {
   "name": "python",
   "version": "3.9.12"
  },
  "orig_nbformat": 4,
  "vscode": {
   "interpreter": {
    "hash": "b0fa6594d8f4cbf19f97940f81e996739fb7646882a419484c72d19e05852a7e"
   }
  }
 },
 "nbformat": 4,
 "nbformat_minor": 2
}
