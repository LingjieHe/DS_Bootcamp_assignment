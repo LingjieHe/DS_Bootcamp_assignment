{
 "cells": [
  {
   "cell_type": "markdown",
   "metadata": {},
   "source": [
    "### 8_Feature Engineering Assignment"
   ]
  },
  {
   "cell_type": "markdown",
   "metadata": {},
   "source": [
    "1, You've constructed some potentially useful and business-relevant features, derived from summary statistics, for each of the states you're concerned with. You've explored many of these features in turn and found various trends. Some states are higher in some but not in others. Some features will also be more correlated with one another than others.\n",
    "One way to disentangle this interconnected web of relationships is via principal components analysis (PCA). This technique will find linear combinations of the original features that are uncorrelated with one another and order them by the amount of variance they explain. You can use these derived features to visualize the data in a lower dimension (e.g. 2 down from 7) and know how much variance the representation explains. You can also explore how the original features contribute to these derived features.\n",
    "\n",
    "The basic steps in this process are:\n",
    "\n",
    "scale the data and verify the scaling\n",
    "fit the PCA transformation (learn the transformation from the data)\n",
    "Draw scree plot\n",
    "Find the optimum number of components\n",
    "Draw the biplot and interpret the relationship between features and components\n",
    "Find the exact correlation between components and features using loading\n",
    "Please use ski_resort_data\n",
    "\n",
    "1- Scale the data\n",
    "\n",
    "2- Verifying the scaling\n",
    "\n",
    "3- Calculate the PCA transformation\n",
    "\n",
    "4- Draw Scree Plot\n",
    "\n",
    "5- Find the Optimum Number of Components\n",
    "\n",
    "6- Draw Biplot\n",
    "\n",
    "7- Calculate Loadings"
   ]
  },
  {
   "cell_type": "code",
   "execution_count": null,
   "metadata": {},
   "outputs": [],
   "source": []
  }
 ],
 "metadata": {
  "kernelspec": {
   "display_name": "Python 3.8.12 ('tf_M1')",
   "language": "python",
   "name": "python3"
  },
  "language_info": {
   "name": "python",
   "version": "3.8.12"
  },
  "orig_nbformat": 4,
  "vscode": {
   "interpreter": {
    "hash": "c472257139bf167f004cf9a82551caeb4bac94da13b8695221f38d43b2d81e5a"
   }
  }
 },
 "nbformat": 4,
 "nbformat_minor": 2
}
