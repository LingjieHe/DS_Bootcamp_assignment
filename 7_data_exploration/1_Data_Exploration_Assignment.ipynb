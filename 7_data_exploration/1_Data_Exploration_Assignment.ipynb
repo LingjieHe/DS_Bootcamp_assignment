{
 "cells": [
  {
   "cell_type": "markdown",
   "metadata": {},
   "source": [
    "\n",
    "### 1-Data Exploration Assignment"
   ]
  },
  {
   "cell_type": "markdown",
   "metadata": {},
   "source": [
    "1. Is the following statement true or false?\n",
    "\n",
    "The goal of exploratory data analysis is to understand the data and find the relevant features that help explain your variable of interest.\n",
    "\n",
    "a)True\n",
    "\n",
    "b)False\n",
    "\n",
    "\n",
    "\n",
    "**a**\n",
    "\n",
    "\n",
    "2. Suppose you're given a rating dataset, where customers enter comments into a text box and select their rating of the product on a 1-5 scale. Which of the following is likely to be necessary to clean the data before it is usable? See the following example.\n",
    "a) 3\n",
    "\n",
    "b) This product was a real-life changer but didn't last long. Therefore, I give it a three.\n",
    "\n",
    "c) Awesome!\n",
    "\n",
    "\n",
    "\n",
    "**b and c**"
   ]
  },
  {
   "cell_type": "markdown",
   "metadata": {},
   "source": []
  },
  {
   "cell_type": "markdown",
   "metadata": {},
   "source": [
    "\n",
    "\n",
    "\n",
    "\n",
    "\n"
   ]
  },
  {
   "cell_type": "markdown",
   "metadata": {},
   "source": []
  },
  {
   "cell_type": "markdown",
   "metadata": {},
   "source": []
  },
  {
   "cell_type": "markdown",
   "metadata": {},
   "source": [
    "### 6-Multivariate Analysis Assignment"
   ]
  },
  {
   "cell_type": "markdown",
   "metadata": {},
   "source": [
    "In this assignment, you will continue to study the data of the US Education System (dataset). You can reach the explanations of this data from Kaggle again.\n",
    "\n",
    "To complete this assignment, submit the Github link of the Jupyter notebook file containing solutions to the questions below. You can talk to your mentor on your head or ask Slack at office time.\n",
    "\n",
    "1, Does the performance in the exams vary according to gender, origin and education level of parents?\n",
    "2, Does lunch type have a relationship with exam performances? How can you explain this, if any?\n",
    "3, Does the preparation courses have an impact on exam performance?\n",
    "4, Which lessons are most correlated with each other?\n"
   ]
  },
  {
   "cell_type": "markdown",
   "metadata": {},
   "source": [
    "### 8-Feature Engineering Assignment"
   ]
  },
  {
   "cell_type": "markdown",
   "metadata": {},
   "source": [
    "1, You've constructed some potentially useful and business-relevant features, derived from summary statistics, for each of the states you're concerned with. You've explored many of these features in turn and found various trends. Some states are higher in some but not in others. Some features will also be more correlated with one another than others.\n",
    "One way to disentangle this interconnected web of relationships is via principal components analysis (PCA). This technique will find linear combinations of the original features that are uncorrelated with one another and order them by the amount of variance they explain. You can use these derived features to visualize the data in a lower dimension (e.g. 2 down from 7) and know how much variance the representation explains. You can also explore how the original features contribute to these derived features.\n",
    "\n",
    "The basic steps in this process are:\n",
    "\n",
    "scale the data and verify the scaling\n",
    "fit the PCA transformation (learn the transformation from the data)\n",
    "Draw scree plot\n",
    "Find the optimum number of components\n",
    "Draw the biplot and interpret the relationship between features and components\n",
    "Find the exact correlation between components and features using loading\n",
    "Please use ski_resort_data\n",
    "\n",
    "1- Scale the data\n",
    "\n",
    "2- Verifying the scaling\n",
    "\n",
    "3- Calculate the PCA transformation\n",
    "\n",
    "4- Draw Scree Plot\n",
    "\n",
    "5- Find the Optimum Number of Components\n",
    "\n",
    "6- Draw Biplot\n",
    "\n",
    "7- Calculate Loadings"
   ]
  },
  {
   "cell_type": "markdown",
   "metadata": {},
   "source": []
  }
 ],
 "metadata": {
  "kernelspec": {
   "display_name": "Python 3.8.12 ('tf_M1')",
   "language": "python",
   "name": "python3"
  },
  "language_info": {
   "name": "python",
   "version": "3.8.12"
  },
  "orig_nbformat": 4,
  "vscode": {
   "interpreter": {
    "hash": "c472257139bf167f004cf9a82551caeb4bac94da13b8695221f38d43b2d81e5a"
   }
  }
 },
 "nbformat": 4,
 "nbformat_minor": 2
}
