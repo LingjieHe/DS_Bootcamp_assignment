{
 "cells": [
  {
   "cell_type": "markdown",
   "metadata": {},
   "source": [
    "\n",
    "### 1-Data Exploration Assignment"
   ]
  },
  {
   "cell_type": "markdown",
   "metadata": {},
   "source": [
    "1. Is the following statement true or false?\n",
    "\n",
    "The goal of exploratory data analysis is to understand the data and find the relevant features that help explain your variable of interest.\n",
    "\n",
    "a)True\n",
    "\n",
    "b)False\n",
    "\n",
    "\n",
    "\n",
    "**a**\n",
    "\n",
    "\n",
    "2. Suppose you're given a rating dataset, where customers enter comments into a text box and select their rating of the product on a 1-5 scale. Which of the following is likely to be necessary to clean the data before it is usable? See the following example.\n",
    "a) 3\n",
    "\n",
    "b) This product was a real-life changer but didn't last long. Therefore, I give it a three.\n",
    "\n",
    "c) Awesome!\n",
    "\n",
    "\n",
    "\n",
    "**b and c**"
   ]
  },
  {
   "cell_type": "markdown",
   "metadata": {},
   "source": []
  }
 ],
 "metadata": {
  "kernelspec": {
   "display_name": "Python 3.8.12 ('tf_M1')",
   "language": "python",
   "name": "python3"
  },
  "language_info": {
   "name": "python",
   "version": "3.8.12"
  },
  "orig_nbformat": 4,
  "vscode": {
   "interpreter": {
    "hash": "c472257139bf167f004cf9a82551caeb4bac94da13b8695221f38d43b2d81e5a"
   }
  }
 },
 "nbformat": 4,
 "nbformat_minor": 2
}
