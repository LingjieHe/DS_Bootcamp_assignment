{
 "cells": [
  {
   "cell_type": "markdown",
   "metadata": {},
   "source": [
    "***Example 1:*** Complete the program that performs the following tasks:\n",
    "\n",
    "- Import the csv file mtcars.csv as a data frame.\n",
    "\n",
    "- Find the mean, median, and mode of the column wt.\n",
    "\n",
    "- Print the mean, median, and mode"
   ]
  },
  {
   "cell_type": "code",
   "execution_count": 4,
   "metadata": {},
   "outputs": [
    {
     "name": "stdout",
     "output_type": "stream",
     "text": [
      "mean =  3.2172500000000004 , median =  3.325 , mode =  ModeResult(mode=array([3.44]), count=array([3]))\n"
     ]
    }
   ],
   "source": [
    "import pandas as pd\n",
    "import numpy as np\n",
    "from scipy import stats\n",
    "\n",
    "df = pd.read_csv('mtcars.csv')  # read in the file mtcars.csv\n",
    "\n",
    "mean = np.mean(df['wt']) # find the mean of the column wt\n",
    "median = np.median(df['wt']) # find the median of the column wt\n",
    "mode = stats.mode(df['wt']) # find the mode of the column wt\n",
    "\n",
    "print(\"mean = \", mean, \", median = \", median, \", mode = \", mode)"
   ]
  },
  {
   "cell_type": "markdown",
   "metadata": {},
   "source": [
    "***Example 2:*** Descriptive statistics are important in sports. Data often involves a large number of measurements and players.\n",
    "\n",
    "The NBA2019 dataset was taken from nbastuffer (https://www.nbastuffer.com/2019-2020-nba-player-stats/) and includes information on several players such as team name, age, turnover percentage, and points per game.\n",
    "\n",
    "Write a program to find the sample standard deviation, rounded to two decimal places, for all players on the list in a chosen column."
   ]
  },
  {
   "cell_type": "code",
   "execution_count": 25,
   "metadata": {},
   "outputs": [
    {
     "name": "stdout",
     "output_type": "stream",
     "text": [
      "The standard deviation is AGE                            4.05\n",
      "APGAssistsAssists per game.    1.99\n",
      "dtype: float64\n"
     ]
    }
   ],
   "source": [
    "import pandas as pd\n",
    "\n",
    "NBA2019_df = pd.read_csv('NBA2019.csv', encoding='latin-1')\n",
    "\n",
    "# Input desired column. Ex: AGE, 2P%, or PointsPerGame.\n",
    "chosen_column = NBA2019_df[['AGE', 'APGAssistsAssists per game.']]\n",
    "\n",
    "# Create subset of NBA2019_df based on input.\n",
    "NBA2019_df_column = chosen_column \n",
    "\n",
    "# Find standard deviation and round to two decimal places. \n",
    "sample_s = NBA2019_df_column.std()\n",
    "sample_s_rounded = round(sample_s, 2) #The student has incorrectly used the round() function.\n",
    "\n",
    "# Output\n",
    "print(f'The standard deviation is {sample_s_rounded}')"
   ]
  },
  {
   "cell_type": "markdown",
   "metadata": {},
   "source": [
    "***Example 3:*** Write a program that will do the following tasks:\n",
    "\n",
    "- Load the file internetusage.csv into a data frame called df.\n",
    "- Create a new data frame, internet, by subsetting the internet_usage column.\n",
    "- Print the five number summary for the internet data frame."
   ]
  },
  {
   "cell_type": "code",
   "execution_count": 27,
   "metadata": {},
   "outputs": [
    {
     "name": "stdout",
     "output_type": "stream",
     "text": [
      "count    51.000000\n",
      "mean     73.747059\n",
      "std       6.304422\n",
      "min      56.600000\n",
      "25%      69.500000\n",
      "50%      75.000000\n",
      "75%      77.600000\n",
      "max      84.700000\n",
      "Name: internet_usage, dtype: float64\n"
     ]
    }
   ],
   "source": [
    "import pandas as pd\n",
    "\n",
    "df = pd.read_csv(\"internetusage.csv\")\n",
    "\n",
    "internet = df['internet_usage'] # subset the column internet_usage\n",
    "\n",
    "five_num = internet.describe() # find the five number summary\n",
    "\n",
    "print(five_num)"
   ]
  },
  {
   "cell_type": "markdown",
   "metadata": {},
   "source": [
    "***Example 4:*** Write a program that will do the following tasks:\n",
    "\n",
    "- Load the file internetusage.csv into a data frame called df.\n",
    "- Create a new data frame, population, by subsetting the State and Population columns.\n",
    "- Create a new data frame, state_data, by subsetting the inputted row (ask the user enter an integer representing the index of a state).\n",
    "- Create a box plot for the population data frame."
   ]
  },
  {
   "cell_type": "code",
   "execution_count": 38,
   "metadata": {},
   "outputs": [
    {
     "name": "stdout",
     "output_type": "stream",
     "text": [
      "The population of Wyoming is 564554.\n"
     ]
    },
    {
     "data": {
      "text/plain": [
       "Text(0, 0.5, 'Number')"
      ]
     },
     "execution_count": 38,
     "metadata": {},
     "output_type": "execute_result"
    },
    {
     "data": {
      "image/png": "[encoded data removed]",
      "text/plain": [
       "<Figure size 432x288 with 1 Axes>"
      ]
     },
     "metadata": {
      "needs_background": "light"
     },
     "output_type": "display_data"
    }
   ],
   "source": [
    "# import the pandas module as pd\n",
    "import pandas as pd\n",
    "import matplotlib.pyplot as plt\n",
    "\n",
    "df = pd.read_csv('internetusage.csv')  # load internetusage.csv \n",
    "\n",
    "population = df[['State', 'Population']] # subset the State and Population columns\n",
    "\n",
    "state_index = int(input(\"Please enter an interger representing the index of a state: \"))\n",
    "\n",
    "state_data = population.iloc[state_index] # subset the row given by state_index\n",
    "\n",
    "state_name = population.iloc[state_index][0]\n",
    "state_pop = population.iloc[state_index][1]\n",
    "\n",
    "print(\"The population of \" + str(state_name) + \" is \" + str(state_pop)+ \".\")\n",
    "\n",
    "plt.boxplot(population['Population'], )\n",
    "plt.xlabel(\"Population\")\n",
    "plt.ylabel(\"Number\")"
   ]
  },
  {
   "cell_type": "code",
   "execution_count": null,
   "metadata": {},
   "outputs": [],
   "source": []
  }
 ],
 "metadata": {
  "interpreter": {
   "hash": "c472257139bf167f004cf9a82551caeb4bac94da13b8695221f38d43b2d81e5a"
  },
  "kernelspec": {
   "display_name": "Python 3.8.12 ('tf_M1')",
   "language": "python",
   "name": "python3"
  },
  "language_info": {
   "codemirror_mode": {
    "name": "ipython",
    "version": 3
   },
   "file_extension": ".py",
   "mimetype": "text/x-python",
   "name": "python",
   "nbconvert_exporter": "python",
   "pygments_lexer": "ipython3",
   "version": "3.8.12"
  }
 },
 "nbformat": 4,
 "nbformat_minor": 4
}
