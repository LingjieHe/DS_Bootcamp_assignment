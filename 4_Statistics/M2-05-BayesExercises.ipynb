{
 "cells": [
  {
   "cell_type": "markdown",
   "metadata": {},
   "source": [
    "**Exercises on Stat**"
   ]
  },
  {
   "cell_type": "markdown",
   "metadata": {},
   "source": [
    "***Exercise-1***: A driving licence examination consists of two parts which are based on\n",
    "a theoretical and a practical examination. Suppose 25% of people fail the practical\n",
    "examination, 15% of people fail the theoretical examination, and 10% of people fail\n",
    "both the examinations. If a person is randomly chosen, then what is the probability\n",
    "that this person \n",
    "- (a) fails at least one of the examinations?\n",
    "- (b) only fails the practical examination, but not the theoretical examination?\n",
    "- (c) successfully passes both the tests?\n",
    "- (d) fails any of the two examinations?"
   ]
  },
  {
   "cell_type": "markdown",
   "metadata": {},
   "source": [
    "(a) 0.25 + 0.15 - 0.1 = 0.3\n",
    "\n",
    "(b) 0.25 - 0.1 = 0.15\n",
    "\n",
    "(c) 1 - 0.3 = 0.7\n",
    "\n",
    "(d) 0.25 - 0.1 + 0.15 - 0.1 = 0.2\n"
   ]
  },
  {
   "cell_type": "markdown",
   "metadata": {},
   "source": [
    "***Exercise-2***: A new board game uses a twelve-sided die. Suppose the die is rolled\n",
    "once, what is the probability of getting\n",
    "- (a) an even number?\n",
    "- (b) a number greater than 9?\n",
    "- (c) an even number greater than 9?\n",
    "- (d) an even number or a number greater than 9?"
   ]
  },
  {
   "cell_type": "markdown",
   "metadata": {},
   "source": [
    "(a) 0.5\n",
    "\n",
    "(b) 3/12 = 0.25\n",
    "\n",
    "(c) 2/12 = 0.167\n",
    "\n",
    "(d) 3/12 = 0.25\n"
   ]
  },
  {
   "cell_type": "markdown",
   "metadata": {},
   "source": [
    "***Exercise-3***: The Smiths are a family of six. They are celebrating Christmas and\n",
    "there are 12 gifts, two for each family member. The name tags for each family\n",
    "member have been attached to the gifts. Unfortunately the name tags on the gifts are\n",
    "damaged by water. Suppose each family member draws two gifts at random. What\n",
    "is the probability that someone\n",
    "- (a) gets his/her two gifts, rather than getting the gifts for another family member?\n",
    "- (b) gets none of his/her gifts, but rather gets the gifts for other family members?"
   ]
  },
  {
   "cell_type": "markdown",
   "metadata": {},
   "source": [
    "(a) 2/12 * (1/11) = 0.015\n",
    "\n",
    "(b) 10/12 * (9/11) = 0.682\n"
   ]
  },
  {
   "cell_type": "markdown",
   "metadata": {},
   "source": [
    "***Exercise-4***: A chef from a popular TV cookery show sometimes puts too much salt\n",
    "in his pumpkin soup and the probability of this happening is 0.2. If he is in love\n",
    "(which he is with probability 0.3), then the probability of using too much salt is 0.6.\n",
    "- (a) Create a contingency table for the probabilities of the two variables “in love”\n",
    "and “too much salt”.\n",
    "- (b) Determine whether the two variables are stochastically independent or not."
   ]
  },
  {
   "cell_type": "markdown",
   "metadata": {},
   "source": [
    "(a)             not in love     in love\n",
    "too much salt       0.2             0.6\n",
    "not much salt       0.8             0.4\n",
    "\n",
    "\n",
    "(b)\n",
    "A: to much salt;  \n",
    "\n",
    "B: in love;  \n",
    "\n",
    "P(A) = 0.2; P(B) = 0.3; \n",
    "\n",
    "P(A|B) = 0.6  !=  P(A);  \n",
    "\n",
    "A and B are dependent\n",
    "\n"
   ]
  },
  {
   "cell_type": "markdown",
   "metadata": {},
   "source": [
    "***Exercise-5***: Dr. Obermeier asks his neighbour to take care of his basil plant while\n",
    "he is away on leave. He assumes that his neighbour does not take care of the basil\n",
    "with a probability of $\\frac{1}{3}$ . The basil dies with probability $\\frac{1}{2}$when someone takes care\n",
    "of it and with probability $\\frac{3}{4}$ if no one takes care of it.\n",
    "- (a) Calculate the probability of the basil plant surviving after its owner’s leave.\n",
    "- (b) It turns out that the basil eventually dies. What is the probability that\n",
    "Dr. Obermeier’s neighbour did not take care of the plant?"
   ]
  },
  {
   "cell_type": "markdown",
   "metadata": {},
   "source": [
    "(a) 1/3 *(1 - 3/4) + (1-1/3) * 1/2 = 5/12 = 0.417;\n",
    "\n",
    "(b)\n",
    "A: basil dies; \n",
    "B: neighbour did not take care; \n",
    "P(A) = 1/2*2/3 + 3/4*1/3 = 7/12\n",
    "P(B) = 1/3; \n",
    "P(A|B) = 3/4; \n",
    "P(B|A) = P(B) * P(A|B) / P(A) = 3/7 = 0.429\n"
   ]
  },
  {
   "cell_type": "markdown",
   "metadata": {},
   "source": [
    "***Exercise-6***: A bank considers changing its credit card policy. Currently 5% of credit\n",
    "card owners are not able to pay their bills in any month, i.e. they never pay their bills.\n",
    "Among those who are generally able to pay their bills, there is still a 20% probability\n",
    "that the bill is paid too late in a particular month.\n",
    "\n",
    "- (a) What is the probability that someone is not paying his bill in a particular month?\n",
    "- (b) A credit card owner did not pay his bill in a particular month. What is the\n",
    "probability that he never pays back the money?\n",
    "- (c) Should the bank consider blocking the credit card if a customer does not pay his\n",
    "bill on time?"
   ]
  },
  {
   "cell_type": "markdown",
   "metadata": {},
   "source": [
    "(a) 0.05 + (1-0.05) * 0.2 = 0.24; \n",
    "\n",
    "(b) 0.05/0.24 = 0.208\n",
    "\n",
    "(c) No, majority (around 80%) of people who didn't pay the bill on time will pay the bill later."
   ]
  },
  {
   "cell_type": "markdown",
   "metadata": {},
   "source": [
    "***Exercise-7***: There are epidemics which affect animals such as cows, pigs, and others. Suppose 200 cows are tested to see whether they are infected with a virus or not.\n",
    "Let event A describe whether a cow has been transported by a truck recently or not\n",
    "and let B denote the event that a cow has been tested positive with a virus. The data\n",
    "are summarized in the following table:\n",
    "\n",
    "\n",
    "|              | B |$\\overline{B} $   | Total |\n",
    "|--------------|---|-------|------------|\n",
    "| A |  40 |60        |100 |\n",
    "| $\\overline{A}$      | 20 |80  | 100  |\n",
    "|Total | 60 |140 | 200|\n",
    "\n",
    "- (a) What is the probability that a cow is infected and has been transported by a truck\n",
    "recently?\n",
    "- (b) What is the probability of having an infected cow given that it has been transported by the truck?\n",
    "- (c) Determine and interpret P(B)"
   ]
  },
  {
   "cell_type": "markdown",
   "metadata": {},
   "source": [
    "(a) 40/200 = 0.2; \n",
    "\n",
    "(b) 40/100 = 0.4; \n",
    "\n",
    "(c) P(B) = (40+20)/200 = 0.3; P(B) is the probability of a infected cow in all cows, including transported by a truck or not."
   ]
  },
  {
   "cell_type": "markdown",
   "metadata": {},
   "source": [
    "***Exercise-8***: A football practice target is a portable wall with two holes (which are\n",
    "the target) in it for training shots. Suppose there are two players A and B. The\n",
    "probabilities of hitting the target by A and B are 0.4 and 0.5, respectively.\n",
    "- (a) What is the probability that at least one of the players succeeds with his shot?\n",
    "- (b) What is the probability that exactly one of the players hits the target?\n",
    "- (c) What is the probability that only B scores?"
   ]
  },
  {
   "cell_type": "markdown",
   "metadata": {},
   "source": [
    "(a) 1 - (1-0.4) * (1-0.5) = 0.7\n",
    "\n",
    "(b) (1-0.4) * 0.5 + 0.4 * (1-0.5) = 0.5\n",
    "\n",
    "(c) (1-0.4) * 0.5 = 0.3"
   ]
  },
  {
   "cell_type": "code",
   "execution_count": null,
   "metadata": {},
   "outputs": [],
   "source": []
  }
 ],
 "metadata": {
  "interpreter": {
   "hash": "c472257139bf167f004cf9a82551caeb4bac94da13b8695221f38d43b2d81e5a"
  },
  "kernelspec": {
   "display_name": "Python 3 (ipykernel)",
   "language": "python",
   "name": "python3"
  },
  "language_info": {
   "codemirror_mode": {
    "name": "ipython",
    "version": 3
   },
   "file_extension": ".py",
   "mimetype": "text/x-python",
   "name": "python",
   "nbconvert_exporter": "python",
   "pygments_lexer": "ipython3",
   "version": "3.8.12"
  }
 },
 "nbformat": 4,
 "nbformat_minor": 4
}
