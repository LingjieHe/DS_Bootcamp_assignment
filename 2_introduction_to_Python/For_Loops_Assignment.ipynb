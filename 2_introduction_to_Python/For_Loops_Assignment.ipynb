{
 "cells": [
  {
   "cell_type": "markdown",
   "metadata": {},
   "source": [
    "1. Do the following to create a program that simulates how websites ensure that everyone has a unique username.\n",
    "\n",
    "􏰀* Make a list of five or more usernames called current_users.\n",
    "\n",
    "􏰀* Make another list of five usernames called new_users. Make sure one or two of the new usernames are also in the current_users list.\n",
    "\n",
    "􏰀* Loop through the new_users list to see if each new username has already been used. If it has, print a message that the person will need to enter a new username. If a username has not been used, print a message saying that the username is available.\n",
    "\n",
    "􏰀* Make sure your comparison is case insensitive. If 'John' has been used, 'JOHN' should not be accepted."
   ]
  },
  {
   "cell_type": "code",
   "execution_count": 8,
   "metadata": {},
   "outputs": [
    {
     "name": "stdout",
     "output_type": "stream",
     "text": [
      "julia exists, you need to enter a new username\n",
      "AUGUST exists, you need to enter a new username\n",
      "Kadison is available\n",
      "luna is available\n",
      "asher is available\n"
     ]
    }
   ],
   "source": [
    "current_users = ['John', 'TinaC', 'Julia', 'august', 'zoey']\n",
    "current_users1 = [name.lower() for name in current_users]\n",
    "new_users = ['julia', 'AUGUST', 'Kadison', 'luna', 'asher']\n",
    "for new in new_users:\n",
    "    if new.lower() in current_users1:\n",
    "        print(f\"{new} exists, you need to enter a new username\")\n",
    "    else:\n",
    "        print(f\"{new} is available\")\n"
   ]
  },
  {
   "cell_type": "markdown",
   "metadata": {},
   "source": [
    "2. Color probability\n",
    "\n",
    "You're playing a game with a friend involving a bag of marbles. In the bag are ten marbles:\n",
    "\n",
    "1 smooth red marble\n",
    "\n",
    "4 bumpy red marbles\n",
    "\n",
    "2 bumpy yellow marbles\n",
    "\n",
    "1 smooth yellow marble\n",
    "\n",
    "1 bumpy green marble\n",
    "\n",
    "1 smooth green marble\n",
    "\n",
    "You can see that the probability of picking a smooth red marble from the bag is 1 / 10 or 0.10 and the probability of picking a bumpy yellow marble is 2 / 10 or 0.20.\n",
    "\n",
    "The game works like this: your friend puts her hand in the bag, chooses a marble (without looking at it) and tells you whether it's bumpy or smooth. Then you have to guess which color it is before she pulls it out and reveals whether you're correct or not.\n",
    "\n",
    "You know that the information about whether the marble is bumpy or smooth changes the probability of what color it is, and you want some help with your guesses.\n",
    "\n",
    "Write a function color_probability that takes two arguments: a color ('red', 'yellow', or 'green') and a texture ('bumpy' or 'smooth') and returns the probability of drawing that combination as a decimal fraction accurate to two places.\n",
    "\n",
    "The probability should be a string and should discard any digits after the 100ths place. For example, 2 / 3 or 0.6666666666666666 would become the string '0.66'. Note this is different from rounding.\n",
    "\n",
    "As a complete example, color_probability('red', 'bumpy') should return the string '0.57'."
   ]
  },
  {
   "cell_type": "code",
   "execution_count": 26,
   "metadata": {},
   "outputs": [
    {
     "data": {
      "text/plain": [
       "0.33"
      ]
     },
     "execution_count": 26,
     "metadata": {},
     "output_type": "execute_result"
    }
   ],
   "source": [
    "import math\n",
    "def color_probability(color, texture):\n",
    "    prob_bumpy = {'red': math.floor(4/7*100)/100, 'yellow': math.floor(2/7*100)/100, \n",
    "                  'green': math.floor(1/7*100)/100}\n",
    "    prob_smooth = {'red': math.floor(1/3*100)/100, 'yellow': math.floor(1/3*100)/100, \n",
    "                   'green': math.floor(1/3*100)/100}\n",
    "    if texture == 'bumpy':\n",
    "        for col in prob_bumpy.keys():\n",
    "            if col == color:\n",
    "                return prob_bumpy[col]\n",
    "    else:\n",
    "        for col in prob_smooth.keys():\n",
    "            if col == color:\n",
    "                return prob_smooth[col]\n",
    "\n",
    "\n",
    "color_probability('red', 'dumpy')\n",
    "                "
   ]
  },
  {
   "cell_type": "markdown",
   "metadata": {},
   "source": [
    "3. Write an if-elif-else chain that determines a person’s stage of life.\n",
    "\n",
    "Set a value for the variable age, and then:\n",
    "\n",
    "􏰀* If the person is less than 2 years old, print a message that the person is a baby.\n",
    "\n",
    "*􏰀 If the person is at least 2 years old but less than 4, print a message that the person is a toddler.\n",
    "\n",
    "*􏰀 If the person is at least 4 years old but less than 13, print a message that the person is a kid.\n",
    "\n",
    "*􏰀 If the person is at least 13 years old but less than 20, print a message that the person is a teenager.\n",
    "\n",
    "*􏰀 If the person is at least 20 years old but less than 65, print a message that the person is an adult.\n",
    "\n",
    "*􏰀 If the person is age 65 or older, print a message that the person is an elder."
   ]
  },
  {
   "cell_type": "code",
   "execution_count": 29,
   "metadata": {},
   "outputs": [
    {
     "name": "stdout",
     "output_type": "stream",
     "text": [
      "The person is an adult\n"
     ]
    }
   ],
   "source": [
    "age = 20\n",
    "if age < 2:\n",
    "    print(\"The person is a baby\")\n",
    "elif (age>=2) & (age<4):\n",
    "    print(\"The person is a toddler\")\n",
    "elif (age>=4) & (age<13):\n",
    "    print(\"The person is a kid\")\n",
    "elif (age>=13) & (age<20):\n",
    "    print(\"The person is a teenager\")\n",
    "elif (age>=20) & (age<65):\n",
    "    print(\"The person is an adult\")\n",
    "elif (age>=65):\n",
    "    print(\"The person is an elder\")"
   ]
  },
  {
   "cell_type": "markdown",
   "metadata": {},
   "source": [
    "4. process_data\n",
    "\n",
    "You have a two-dimensional list in the following format:\n",
    "\n",
    "data = [[2, 5], [3, 4], [8, 7]]\n",
    "\n",
    "Each sub-list contains two items, and each item in the sub-lists is an integer.\n",
    "\n",
    "Write a function process_data that processes each sub-list like so:\n",
    "\n",
    "[2, 5] --> 2 - 5 --> -3\n",
    "[3, 4] --> 3 - 4 --> -1\n",
    "[8, 7] --> 8 - 7 --> 1\n",
    "and then returns the product of all the processed sub-lists: -3 * -1 * 1 --> 3. d For input, you can trust that neither the main list nor the sublists will be empty.\n"
   ]
  },
  {
   "cell_type": "code",
   "execution_count": 37,
   "metadata": {},
   "outputs": [
    {
     "name": "stdout",
     "output_type": "stream",
     "text": [
      "3\n"
     ]
    }
   ],
   "source": [
    "data = [[2, 5], [3, 4], [8, 7]]\n",
    "result = 1\n",
    "for [a,b] in data:\n",
    "    result *= (a-b)\n",
    "print(result)\n"
   ]
  },
  {
   "cell_type": "markdown",
   "metadata": {},
   "source": [
    "5. user_contacts\n",
    "\n",
    "You're putting together contact information for all the users of your website to ship them a small gift. You queried your database and got back a list of users, where each user is another list with up to two items: a string representing the user's name and their shipping zip code. Example data might look like:\n",
    "\n",
    "[[\"Grae Drake\", 98110], [\"Bethany Kok\"], [\"Alex Nussbacher\", 94101], [\"Darrell Silver\", 11201]]\n",
    "\n",
    "Notice that one of the users above has a name but doesn't have a zip code.\n",
    "\n",
    "Write a function user_contacts that takes a two-dimensional list like the one above and returns a dictionary with an item for each user where the key is the user's name and the value is the user's zip code. If your data doesn't include a zip code then the value should be None.\n",
    "\n",
    "For example, using the input above, user_contacts would return this dictionary:\n",
    "\n",
    "{\n",
    "    \"Grae Drake\": 98110,\n",
    "    \"Bethany Kok\": None,\n",
    "    \"Alex Nussbacher\": 94101,\n",
    "    \"Darrell Silver\": 11201,    \n",
    "}\n",
    "​\n",
    "You don't have to worry about leading zeros in zip codes."
   ]
  },
  {
   "cell_type": "code",
   "execution_count": 52,
   "metadata": {},
   "outputs": [
    {
     "data": {
      "text/plain": [
       "{'Grae Drake': 98110,\n",
       " 'Bethany Kok': None,\n",
       " 'Alex Nussbacher': 94101,\n",
       " 'Darrell Silver': 11201}"
      ]
     },
     "execution_count": 52,
     "metadata": {},
     "output_type": "execute_result"
    }
   ],
   "source": [
    "def user_contacts(users):\n",
    "    user_contact = {}\n",
    "    for item in users:\n",
    "        if len(item) == 1:\n",
    "            item.append(None)\n",
    "        user_contact[item[0]] = item[1]\n",
    "    return user_contact\n",
    "    \n",
    "\n",
    "users=[[\"Grae Drake\", 98110], [\"Bethany Kok\"], [\n",
    "    \"Alex Nussbacher\", 94101], [\"Darrell Silver\", 11201]]\n",
    "user_contacts(users)\n"
   ]
  }
 ],
 "metadata": {
  "interpreter": {
   "hash": "c472257139bf167f004cf9a82551caeb4bac94da13b8695221f38d43b2d81e5a"
  },
  "kernelspec": {
   "display_name": "Python 3.8.12 ('tf_M1')",
   "language": "python",
   "name": "python3"
  },
  "language_info": {
   "codemirror_mode": {
    "name": "ipython",
    "version": 3
   },
   "file_extension": ".py",
   "mimetype": "text/x-python",
   "name": "python",
   "nbconvert_exporter": "python",
   "pygments_lexer": "ipython3",
   "version": "3.8.12"
  },
  "orig_nbformat": 4
 },
 "nbformat": 4,
 "nbformat_minor": 2
}
