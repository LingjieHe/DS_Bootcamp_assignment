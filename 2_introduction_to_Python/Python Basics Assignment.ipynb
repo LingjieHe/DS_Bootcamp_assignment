{
 "cells": [
  {
   "cell_type": "markdown",
   "metadata": {},
   "source": [
    "1- Write a code that outputs your name and surname in one line."
   ]
  },
  {
   "cell_type": "code",
   "execution_count": 1,
   "metadata": {},
   "outputs": [
    {
     "name": "stdout",
     "output_type": "stream",
     "text": [
      "My name is Lingjie He\n"
     ]
    }
   ],
   "source": [
    "name = \"Lingjie\"\n",
    "surname = \"He\"\n",
    "print(f\"My name is {name} {surname}\")"
   ]
  },
  {
   "cell_type": "markdown",
   "metadata": {},
   "source": [
    "​2- Write a 1-line code that outputs your name and surname in two separate lines by using a single print() call."
   ]
  },
  {
   "cell_type": "code",
   "execution_count": 2,
   "metadata": {},
   "outputs": [
    {
     "name": "stdout",
     "output_type": "stream",
     "text": [
      "Lingjie \n",
      "He\n"
     ]
    }
   ],
   "source": [
    "print(f\"\"\"{name} \n",
    "{surname}\"\"\")\n"
   ]
  },
  {
   "cell_type": "code",
   "execution_count": 1,
   "metadata": {},
   "outputs": [
    {
     "name": "stdout",
     "output_type": "stream",
     "text": [
      "Lingjie\n",
      "He\n"
     ]
    }
   ],
   "source": [
    "print('Lingjie\\nHe')"
   ]
  },
  {
   "cell_type": "markdown",
   "metadata": {},
   "source": [
    "​3- Use print() function that returns the following text. Notice the quotes in the text. Those quotes should be seen in the output!:\n",
    " \n",
    " `I don't want to be an \"artist\". I want to be a \"Data Scientist.\"` \n"
   ]
  },
  {
   "cell_type": "code",
   "execution_count": 3,
   "metadata": {},
   "outputs": [
    {
     "name": "stdout",
     "output_type": "stream",
     "text": [
      "'I don't want to be an \"artist\". I want to be a \"Data Scientist.\"'\n"
     ]
    }
   ],
   "source": [
    "print(\"\"\"'I don't want to be an \"artist\". I want to be a \"Data Scientist.\"'\"\"\")\n"
   ]
  }
 ],
 "metadata": {
  "interpreter": {
   "hash": "c472257139bf167f004cf9a82551caeb4bac94da13b8695221f38d43b2d81e5a"
  },
  "kernelspec": {
   "display_name": "Python 3.8.12 ('tf_M1')",
   "language": "python",
   "name": "python3"
  },
  "language_info": {
   "codemirror_mode": {
    "name": "ipython",
    "version": 3
   },
   "file_extension": ".py",
   "mimetype": "text/x-python",
   "name": "python",
   "nbconvert_exporter": "python",
   "pygments_lexer": "ipython3",
   "version": "3.8.12"
  },
  "orig_nbformat": 4
 },
 "nbformat": 4,
 "nbformat_minor": 2
}
