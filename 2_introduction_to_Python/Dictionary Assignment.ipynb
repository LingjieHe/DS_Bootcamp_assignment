{
 "cells": [
  {
   "cell_type": "markdown",
   "metadata": {},
   "source": [
    "1- Create a dictionary with 7 days. Ask the user to choose 2 different days by listing the (e.g. \"12\" for Monday and Tuesday). Delete the user-selected days from the dictionary and print the remaining 5 days on the screen."
   ]
  },
  {
   "cell_type": "code",
   "execution_count": 1,
   "metadata": {},
   "outputs": [
    {
     "name": "stdout",
     "output_type": "stream",
     "text": [
      "12 for Monday\n",
      "12 for Tuesday\n",
      "{'Tuesday': 12, 'Wednesday': 13, 'Thursday': 15, 'Friday': 5, 'Saturday': 9, 'Sunday': 10}\n"
     ]
    }
   ],
   "source": [
    "dct = {\"Monday\":12, \"Tuesday\": 12, \"Wednesday\": 13, \"Thursday\": 15, \"Friday\": 5, \"Saturday\":9, \"Sunday\":10}\n",
    "day1 = input(\"Choose the first day: \")\n",
    "day2 = input(\"Choose the second day: \")\n",
    "print(f\"{dct[day1]} for {day1}\")\n",
    "print(f\"{dct[day2]} for {day2}\")\n",
    "dct.pop(day1, day2)\n",
    "print(dct)"
   ]
  },
  {
   "cell_type": "markdown",
   "metadata": {},
   "source": [
    "2- Create a dictionary with the following personnel. Use names as keys.\n",
    "\n"
   ]
  },
  {
   "cell_type": "code",
   "execution_count": 3,
   "metadata": {},
   "outputs": [
    {
     "data": {
      "text/plain": [
       "{'Michael': {}, 'Linda': {}}"
      ]
     },
     "execution_count": 3,
     "metadata": {},
     "output_type": "execute_result"
    }
   ],
   "source": [
    "#can't find the any information of \"personnnel\"\n",
    "personnel = {'Michael':{}, 'Linda':{}}\n"
   ]
  },
  {
   "cell_type": "markdown",
   "metadata": {},
   "source": [
    "3- Add child information to Michael and Linda. Michael has two children (Karen (age : 12, female) and Greg (age : 7, male) and Linda has one child (Susan (age: 6, female))"
   ]
  },
  {
   "cell_type": "code",
   "execution_count": 4,
   "metadata": {},
   "outputs": [
    {
     "name": "stdout",
     "output_type": "stream",
     "text": [
      "{'Michael': {'Karen': [12, 'female'], 'Greg': [7, 'male']}, 'Linda': {}, 'Susan': {'Susan': [6, 'female']}}\n"
     ]
    }
   ],
   "source": [
    "personnel['Michael'] = {'Karen': [12, 'female'], 'Greg': [7, 'male']}\n",
    "personnel['Susan'] = {'Susan': [6, 'female']}\n",
    "print(personnel)"
   ]
  },
  {
   "cell_type": "markdown",
   "metadata": {},
   "source": [
    "4- Print the names of Michael's children in a list."
   ]
  },
  {
   "cell_type": "code",
   "execution_count": 7,
   "metadata": {},
   "outputs": [
    {
     "name": "stdout",
     "output_type": "stream",
     "text": [
      "dict_keys(['Karen', 'Greg'])\n"
     ]
    }
   ],
   "source": [
    "print(personnel['Michael'].keys())"
   ]
  },
  {
   "cell_type": "markdown",
   "metadata": {},
   "source": [
    "5- We are providing you with a function called fillable to help you access a data dictionary and check for in-stock items. It takes three parameters as shown:\n",
    "def fillable(f_stock, f_merch, f_n):\n",
    "\n",
    "    A) f_stock takes the dictionary representing all the merchandise you have in stock.\n",
    "    B) f_merch takes the merchandise your customer wants to buy.\n",
    "    C) f_n takes the number of units of f_merch they would like to buy.\n",
    "Your job is to start by defining the dictionary called stock with the key value pairs of your merchandise. Use the following to populate your stock dictionary (merchandise, quantity):\n",
    "\n",
    "   earbuds, 20\n",
    "\n",
    "   microphones, 72\n",
    "\n",
    "   speakers, 14\n",
    "\n",
    "   headsets, 59\n",
    "\n",
    "   webcams, 37\n",
    "\n",
    "def fillable(f_stock, f_merch, f_n):\n",
    "    if f_stock[f_merch] >= f_n:\n",
    "    return True\n",
    "  else:\n",
    "    return False\n"
   ]
  },
  {
   "cell_type": "code",
   "execution_count": 4,
   "metadata": {},
   "outputs": [],
   "source": [
    "stock = {'earbuds': 20, 'microphones': 72, 'speakers': 14, 'headsets':59, 'webcams':37}\n",
    "\n",
    "def fillable(f_stock, f_merch, f_n):\n",
    "    if f_merch in f_stock:\n",
    "        return (f_stock[f_merch] >= f_n)\n",
    "    else:\n",
    "        return False"
   ]
  },
  {
   "cell_type": "markdown",
   "metadata": {},
   "source": [
    "6- Next define a merch input string and give it a value of earbuds. Define a variable n and give it a value of 15.\n",
    "\n",
    "stock = {'earbuds': 20, 'microphones': 72, 'speakers': 14, 'headsets':59, 'webcams': '37'}\n",
    "​\n",
    "# what your customer wants to buy\n",
    "merch = 'earbuds'\n",
    "​\n",
    "# number of units of merch your customer wants to buy\n",
    "n = 15\n",
    "# store your results here\n",
    "avail_stock = fillable(stock, merch, n)\n",
    "​\n",
    "# print your results\n",
    "print(avail_stock)"
   ]
  },
  {
   "cell_type": "code",
   "execution_count": 7,
   "metadata": {},
   "outputs": [
    {
     "name": "stdout",
     "output_type": "stream",
     "text": [
      "True\n"
     ]
    }
   ],
   "source": [
    "stock = {'earbuds': 20, 'microphones': 72,\n",
    "         'speakers': 14, 'headsets': 59, 'webcams': '37'}\n",
    "merch = 'earbuds'\n",
    "n = 15\n",
    "avail_stock = fillable(stock, merch, n)\n",
    "print(avail_stock)\n"
   ]
  },
  {
   "cell_type": "code",
   "execution_count": null,
   "metadata": {},
   "outputs": [],
   "source": []
  }
 ],
 "metadata": {
  "interpreter": {
   "hash": "c472257139bf167f004cf9a82551caeb4bac94da13b8695221f38d43b2d81e5a"
  },
  "kernelspec": {
   "display_name": "Python 3.8.12 ('tf_M1')",
   "language": "python",
   "name": "python3"
  },
  "language_info": {
   "codemirror_mode": {
    "name": "ipython",
    "version": 3
   },
   "file_extension": ".py",
   "mimetype": "text/x-python",
   "name": "python",
   "nbconvert_exporter": "python",
   "pygments_lexer": "ipython3",
   "version": "3.8.12"
  },
  "orig_nbformat": 4
 },
 "nbformat": 4,
 "nbformat_minor": 2
}
