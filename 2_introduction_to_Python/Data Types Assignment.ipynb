{
 "cells": [
  {
   "cell_type": "markdown",
   "metadata": {},
   "source": [
    "1- Suppose you invested in Bitcoin at the end of 2020 when Bitcoin gained a lot of value. What would be your money at the end of a week if you had invested $1000 with an average daily increase of 12% ? You can solve the problem using Python.\n",
    "\n",
    "\n",
    "Help\n",
    "\n",
    "Create a variable capital ($1000)\n",
    "\n",
    "Create a variable for daily growth (12%)\n",
    "\n",
    "Create a variable for period (7)\n",
    "\n",
    "Calculate the final growth rate\n",
    "\n",
    "Calculate result\n",
    "\n",
    "Print result"
   ]
  },
  {
   "cell_type": "code",
   "execution_count": 7,
   "metadata": {},
   "outputs": [
    {
     "name": "stdout",
     "output_type": "stream",
     "text": [
      "Amount of money at the end: 1210.68\n"
     ]
    }
   ],
   "source": [
    "capital = 1000\n",
    "daily_rate = 0.12\n",
    "period = 7\n",
    "\n",
    "result = capital * ((1 + daily_rate)**7)\n",
    "gain = result - capital\n",
    "print(f\"Amount of money at the end: {gain:.2f}\")\n"
   ]
  },
  {
   "cell_type": "markdown",
   "metadata": {},
   "source": [
    "2- Print the text in quotes with Python. However, you must get the numbers from variables using .format() notation. Because the text is long, you might consider writing in two lines:\n",
    "\n",
    "\"When we buy bitcoin with 1000 USD at the beginning of the week, we would earn 1210.68 USD at the end of the week, with an average gain of 12\\%.\""
   ]
  },
  {
   "cell_type": "code",
   "execution_count": 6,
   "metadata": {},
   "outputs": [
    {
     "name": "stdout",
     "output_type": "stream",
     "text": [
      "When we buy bitcoin with 1000 USD at the beginning of the week, \n",
      "      we would earn 1210.68 USD at the end of the week, with an average gain of 12%.\n"
     ]
    }
   ],
   "source": [
    "print(\"\"\"When we buy bitcoin with {} USD at the beginning of the week, \n",
    "      we would earn {:.2f} USD at the end of the week, with an average gain of {:.0f}%.\"\"\".format(capital, gain, daily_rate*100))\n"
   ]
  },
  {
   "cell_type": "markdown",
   "metadata": {},
   "source": [
    "3- Get the temperature in Fahrenheit from user and write a code to convert it to Celcius. For conversion, you can use this formula: C = (5/9) * (F - 32)\n",
    "Enter the temperature in Fahrenheit:\n",
    "\n",
    "user --> 26\n",
    "\n",
    "output --> Temperature (C) : -3.33"
   ]
  },
  {
   "cell_type": "code",
   "execution_count": 26,
   "metadata": {},
   "outputs": [
    {
     "name": "stdout",
     "output_type": "stream",
     "text": [
      "26 in Fahrenheit is -3.33 in Celcius\n"
     ]
    }
   ],
   "source": [
    "F = int(input(\"Enter the temperature in Fahrenheit: \"))\n",
    "C = (5/9) * (F - 32)\n",
    "print(f\"{F} in Fahrenheit is {C:.2f} in Celcius\")\n"
   ]
  },
  {
   "cell_type": "markdown",
   "metadata": {},
   "source": [
    "4- Get a three digit number the from user and calculate the sum of the digits in the integer.\n",
    "user --> 365\n",
    "\n",
    "output --> \"The sum of digits in the number is 14"
   ]
  },
  {
   "cell_type": "code",
   "execution_count": 33,
   "metadata": {},
   "outputs": [
    {
     "name": "stdout",
     "output_type": "stream",
     "text": [
      "The sum of digits in the number is: 14\n"
     ]
    }
   ],
   "source": [
    "num = input(\"Enter a three digit number: \")\n",
    "total = int(num[0]) + int(num[1]) + int(num[2])\n",
    "print(f\"The sum of digits in the number is: {total}\")"
   ]
  },
  {
   "cell_type": "code",
   "execution_count": 34,
   "metadata": {},
   "outputs": [
    {
     "name": "stdout",
     "output_type": "stream",
     "text": [
      "The sum of digits in the number is: 14\n"
     ]
    }
   ],
   "source": [
    "#Alternative method\n",
    "num = input(\"Enter a three digit number: \")\n",
    "total = 0\n",
    "for i in num:\n",
    "    total += int(i)\n",
    "print(f\"The sum of digits in the number is: {total}\")"
   ]
  },
  {
   "cell_type": "markdown",
   "metadata": {},
   "source": [
    "5- Write some code to calculate the hypotenuse of a right angled triangle. Get the side lengths from the user.\n",
    "user --> first side lenth : 6\n",
    "\n",
    "user --> first side lenth : 8\n",
    "\n",
    "output --> \"The length of the hypotenuse is 10"
   ]
  },
  {
   "cell_type": "code",
   "execution_count": 2,
   "metadata": {},
   "outputs": [
    {
     "name": "stdout",
     "output_type": "stream",
     "text": [
      "The length of the hypotenuse is 10\n"
     ]
    }
   ],
   "source": [
    "side1 = int(input(\"first side lenth : \"))\n",
    "side2 = int(input(\"Second side lenth : \"))\n",
    "hypotenuse = (side1**2 + side2**2) ** (1/2)\n",
    "print(f\"The length of the hypotenuse is {round(hypotenuse)}\")"
   ]
  }
 ],
 "metadata": {
  "interpreter": {
   "hash": "c472257139bf167f004cf9a82551caeb4bac94da13b8695221f38d43b2d81e5a"
  },
  "kernelspec": {
   "display_name": "Python 3.8.12 ('tf_M1')",
   "language": "python",
   "name": "python3"
  },
  "language_info": {
   "codemirror_mode": {
    "name": "ipython",
    "version": 3
   },
   "file_extension": ".py",
   "mimetype": "text/x-python",
   "name": "python",
   "nbconvert_exporter": "python",
   "pygments_lexer": "ipython3",
   "version": "3.8.12"
  },
  "orig_nbformat": 4
 },
 "nbformat": 4,
 "nbformat_minor": 2
}
