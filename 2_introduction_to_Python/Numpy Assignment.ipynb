{
 "cells": [
  {
   "cell_type": "markdown",
   "metadata": {},
   "source": [
    "1- Create three lists representing house features, each list containing ten values. The first one for the house's size in square meters, the second one for rooms and last for price. Then, create an array combining these lists."
   ]
  },
  {
   "cell_type": "code",
   "execution_count": 5,
   "metadata": {},
   "outputs": [
    {
     "name": "stdout",
     "output_type": "stream",
     "text": [
      "[[200 250 350 290 310 259 300 180 220 400]\n",
      " [  2   3   3   3   3   3   4   2   3   5]\n",
      " [180 190 240 200 230 195 250 160 210 300]]\n"
     ]
    }
   ],
   "source": [
    "import numpy as np\n",
    "size = [200,250,350,290,310,259,300,180,220,400]\n",
    "rooms = [2,3,3,3,3,3,4,2,3,5]\n",
    "price = [180,190,240,200,230,195,250,160,210,300]\n",
    "features = np.array([size,rooms,price])\n",
    "print(features)"
   ]
  },
  {
   "cell_type": "code",
   "execution_count": 3,
   "metadata": {},
   "outputs": [
    {
     "data": {
      "text/plain": [
       "array([[   472,    408,    394,    324,    309,    249,    190,    184,\n",
       "           182,    170],\n",
       "       [     2,      2,      2,      2,      2,      1,      1,      1,\n",
       "             1,      1],\n",
       "       [945601, 915116, 790625, 728594, 719480, 716458, 565103, 503910,\n",
       "        395285, 351990]])"
      ]
     },
     "execution_count": 3,
     "metadata": {},
     "output_type": "execute_result"
    }
   ],
   "source": [
    "# from Soudeh\n",
    "\n",
    "import numpy as np\n",
    "\n",
    "House_size = np.random.randint(100,500,10, dtype=int)\n",
    "House_size = sorted(House_size, reverse=True)\n",
    "\n",
    "House_rooms = np.random.choice(range(1,3), size=10, replace=True)\n",
    "House_rooms = sorted(House_rooms, reverse= True)\n",
    "\n",
    "House_price = np.random.choice(range(300_000, 1_000_000), size=10, replace=True)\n",
    "House_price = sorted(House_price, reverse=True)\n",
    "\n",
    "House_features = np.array([House_size, House_rooms, House_price])\n",
    "House_features"
   ]
  },
  {
   "cell_type": "markdown",
   "metadata": {},
   "source": [
    "2- Transpose the array you have created, so that every line can represent features of one house."
   ]
  },
  {
   "cell_type": "code",
   "execution_count": 6,
   "metadata": {},
   "outputs": [
    {
     "name": "stdout",
     "output_type": "stream",
     "text": [
      "[[200   2 180]\n",
      " [250   3 190]\n",
      " [350   3 240]\n",
      " [290   3 200]\n",
      " [310   3 230]\n",
      " [259   3 195]\n",
      " [300   4 250]\n",
      " [180   2 160]\n",
      " [220   3 210]\n",
      " [400   5 300]]\n"
     ]
    }
   ],
   "source": [
    "features = features.T\n",
    "print(features)"
   ]
  },
  {
   "cell_type": "markdown",
   "metadata": {},
   "source": [
    "3- Display the shape of the array and explain what it means."
   ]
  },
  {
   "cell_type": "code",
   "execution_count": 7,
   "metadata": {},
   "outputs": [
    {
     "data": {
      "text/plain": [
       "(10, 3)"
      ]
     },
     "execution_count": 7,
     "metadata": {},
     "output_type": "execute_result"
    }
   ],
   "source": [
    "features.shape\n",
    "#The array has 10 rows and 3 columns"
   ]
  },
  {
   "cell_type": "markdown",
   "metadata": {},
   "source": [
    "4- Load the Earthquakes dataset. Export the dataset to an array as you covered in the previous lesson."
   ]
  },
  {
   "cell_type": "code",
   "execution_count": 58,
   "metadata": {},
   "outputs": [
    {
     "data": {
      "text/plain": [
       "\"\\nwith open('earthquakes1970-2014.csv', 'r') as eq:\\n    reader = csv.reader(eq)\\n    data = np.array(list(reader)) #.dtype(float)\\nprint(data[:3])\\nprint(data.shape)\\n\""
      ]
     },
     "execution_count": 58,
     "metadata": {},
     "output_type": "execute_result"
    }
   ],
   "source": [
    "\n"
   ]
  },
  {
   "cell_type": "code",
   "execution_count": 16,
   "metadata": {},
   "outputs": [],
   "source": [
    "# from Soudelh\n",
    "\n",
    "import os\n",
    "\n",
    "for Dir, Folders, Files in os.walk(os.getcwd()):\n",
    "    for File in Files:\n",
    "        if File == 'earthquakes1970-2014.csv':\n",
    "            Path = os.path.join(Dir, File)\n",
    "            print(Path)\n"
   ]
  },
  {
   "cell_type": "code",
   "execution_count": 18,
   "metadata": {},
   "outputs": [
    {
     "data": {
      "text/html": [
       "<div>\n",
       "<style scoped>\n",
       "    .dataframe tbody tr th:only-of-type {\n",
       "        vertical-align: middle;\n",
       "    }\n",
       "\n",
       "    .dataframe tbody tr th {\n",
       "        vertical-align: top;\n",
       "    }\n",
       "\n",
       "    .dataframe thead th {\n",
       "        text-align: right;\n",
       "    }\n",
       "</style>\n",
       "<table border=\"1\" class=\"dataframe\">\n",
       "  <thead>\n",
       "    <tr style=\"text-align: right;\">\n",
       "      <th></th>\n",
       "      <th>DateTime</th>\n",
       "      <th>Latitude</th>\n",
       "      <th>Longitude</th>\n",
       "      <th>Depth</th>\n",
       "      <th>Magnitude</th>\n",
       "      <th>MagType</th>\n",
       "      <th>NbStations</th>\n",
       "      <th>Gap</th>\n",
       "      <th>Distance</th>\n",
       "      <th>RMS</th>\n",
       "      <th>Source</th>\n",
       "      <th>EventID</th>\n",
       "    </tr>\n",
       "  </thead>\n",
       "  <tbody>\n",
       "    <tr>\n",
       "      <th>0</th>\n",
       "      <td>1970/01/04 17:00:40.20</td>\n",
       "      <td>24.139</td>\n",
       "      <td>102.503</td>\n",
       "      <td>31.0</td>\n",
       "      <td>7.5</td>\n",
       "      <td>Ms</td>\n",
       "      <td>90.0</td>\n",
       "      <td>NaN</td>\n",
       "      <td>NaN</td>\n",
       "      <td>0.0</td>\n",
       "      <td>NEI</td>\n",
       "      <td>1.970010e+09</td>\n",
       "    </tr>\n",
       "    <tr>\n",
       "      <th>1</th>\n",
       "      <td>1970/01/06 05:35:51.80</td>\n",
       "      <td>-9.628</td>\n",
       "      <td>151.458</td>\n",
       "      <td>8.0</td>\n",
       "      <td>6.2</td>\n",
       "      <td>Ms</td>\n",
       "      <td>85.0</td>\n",
       "      <td>NaN</td>\n",
       "      <td>NaN</td>\n",
       "      <td>0.0</td>\n",
       "      <td>NEI</td>\n",
       "      <td>1.970011e+09</td>\n",
       "    </tr>\n",
       "    <tr>\n",
       "      <th>2</th>\n",
       "      <td>1970/01/08 17:12:39.10</td>\n",
       "      <td>-34.741</td>\n",
       "      <td>178.568</td>\n",
       "      <td>179.0</td>\n",
       "      <td>6.1</td>\n",
       "      <td>Mb</td>\n",
       "      <td>59.0</td>\n",
       "      <td>NaN</td>\n",
       "      <td>NaN</td>\n",
       "      <td>0.0</td>\n",
       "      <td>NEI</td>\n",
       "      <td>1.970011e+09</td>\n",
       "    </tr>\n",
       "    <tr>\n",
       "      <th>3</th>\n",
       "      <td>1970/01/10 12:07:08.60</td>\n",
       "      <td>6.825</td>\n",
       "      <td>126.737</td>\n",
       "      <td>73.0</td>\n",
       "      <td>6.1</td>\n",
       "      <td>Mb</td>\n",
       "      <td>91.0</td>\n",
       "      <td>NaN</td>\n",
       "      <td>NaN</td>\n",
       "      <td>0.0</td>\n",
       "      <td>NEI</td>\n",
       "      <td>1.970011e+09</td>\n",
       "    </tr>\n",
       "    <tr>\n",
       "      <th>4</th>\n",
       "      <td>1970/01/16 08:05:39.00</td>\n",
       "      <td>60.280</td>\n",
       "      <td>-152.660</td>\n",
       "      <td>85.0</td>\n",
       "      <td>6.0</td>\n",
       "      <td>ML</td>\n",
       "      <td>0.0</td>\n",
       "      <td>NaN</td>\n",
       "      <td>NaN</td>\n",
       "      <td>NaN</td>\n",
       "      <td>AK</td>\n",
       "      <td>NaN</td>\n",
       "    </tr>\n",
       "  </tbody>\n",
       "</table>\n",
       "</div>"
      ],
      "text/plain": [
       "                 DateTime  Latitude  Longitude  Depth  Magnitude MagType  \\\n",
       "0  1970/01/04 17:00:40.20    24.139    102.503   31.0        7.5      Ms   \n",
       "1  1970/01/06 05:35:51.80    -9.628    151.458    8.0        6.2      Ms   \n",
       "2  1970/01/08 17:12:39.10   -34.741    178.568  179.0        6.1      Mb   \n",
       "3  1970/01/10 12:07:08.60     6.825    126.737   73.0        6.1      Mb   \n",
       "4  1970/01/16 08:05:39.00    60.280   -152.660   85.0        6.0      ML   \n",
       "\n",
       "   NbStations  Gap  Distance  RMS Source       EventID  \n",
       "0        90.0  NaN       NaN  0.0    NEI  1.970010e+09  \n",
       "1        85.0  NaN       NaN  0.0    NEI  1.970011e+09  \n",
       "2        59.0  NaN       NaN  0.0    NEI  1.970011e+09  \n",
       "3        91.0  NaN       NaN  0.0    NEI  1.970011e+09  \n",
       "4         0.0  NaN       NaN  NaN     AK           NaN  "
      ]
     },
     "execution_count": 18,
     "metadata": {},
     "output_type": "execute_result"
    }
   ],
   "source": [
    "import pandas as pd\n",
    "data = pd.read_csv('earthquakes1970-2014.csv')\n",
    "data.head()\n",
    " "
   ]
  },
  {
   "cell_type": "code",
   "execution_count": 19,
   "metadata": {},
   "outputs": [
    {
     "data": {
      "text/plain": [
       "(5304, 12)"
      ]
     },
     "execution_count": 19,
     "metadata": {},
     "output_type": "execute_result"
    }
   ],
   "source": [
    "data.shape"
   ]
  },
  {
   "cell_type": "markdown",
   "metadata": {},
   "source": [
    "5- Slice first 20 rows and column numbers 3, 5, 6, 7, 12. Then, assign the array you sliced to a variable.\n"
   ]
  },
  {
   "cell_type": "code",
   "execution_count": 22,
   "metadata": {},
   "outputs": [
    {
     "data": {
      "text/html": [
       "<div>\n",
       "<style scoped>\n",
       "    .dataframe tbody tr th:only-of-type {\n",
       "        vertical-align: middle;\n",
       "    }\n",
       "\n",
       "    .dataframe tbody tr th {\n",
       "        vertical-align: top;\n",
       "    }\n",
       "\n",
       "    .dataframe thead th {\n",
       "        text-align: right;\n",
       "    }\n",
       "</style>\n",
       "<table border=\"1\" class=\"dataframe\">\n",
       "  <thead>\n",
       "    <tr style=\"text-align: right;\">\n",
       "      <th></th>\n",
       "      <th>Longitude</th>\n",
       "      <th>Magnitude</th>\n",
       "      <th>MagType</th>\n",
       "      <th>NbStations</th>\n",
       "      <th>EventID</th>\n",
       "    </tr>\n",
       "  </thead>\n",
       "  <tbody>\n",
       "    <tr>\n",
       "      <th>0</th>\n",
       "      <td>102.503</td>\n",
       "      <td>7.5</td>\n",
       "      <td>Ms</td>\n",
       "      <td>90.0</td>\n",
       "      <td>1.970010e+09</td>\n",
       "    </tr>\n",
       "    <tr>\n",
       "      <th>1</th>\n",
       "      <td>151.458</td>\n",
       "      <td>6.2</td>\n",
       "      <td>Ms</td>\n",
       "      <td>85.0</td>\n",
       "      <td>1.970011e+09</td>\n",
       "    </tr>\n",
       "    <tr>\n",
       "      <th>2</th>\n",
       "      <td>178.568</td>\n",
       "      <td>6.1</td>\n",
       "      <td>Mb</td>\n",
       "      <td>59.0</td>\n",
       "      <td>1.970011e+09</td>\n",
       "    </tr>\n",
       "    <tr>\n",
       "      <th>3</th>\n",
       "      <td>126.737</td>\n",
       "      <td>6.1</td>\n",
       "      <td>Mb</td>\n",
       "      <td>91.0</td>\n",
       "      <td>1.970011e+09</td>\n",
       "    </tr>\n",
       "    <tr>\n",
       "      <th>4</th>\n",
       "      <td>-152.660</td>\n",
       "      <td>6.0</td>\n",
       "      <td>ML</td>\n",
       "      <td>0.0</td>\n",
       "      <td>NaN</td>\n",
       "    </tr>\n",
       "  </tbody>\n",
       "</table>\n",
       "</div>"
      ],
      "text/plain": [
       "   Longitude  Magnitude MagType  NbStations       EventID\n",
       "0    102.503        7.5      Ms        90.0  1.970010e+09\n",
       "1    151.458        6.2      Ms        85.0  1.970011e+09\n",
       "2    178.568        6.1      Mb        59.0  1.970011e+09\n",
       "3    126.737        6.1      Mb        91.0  1.970011e+09\n",
       "4   -152.660        6.0      ML         0.0           NaN"
      ]
     },
     "execution_count": 22,
     "metadata": {},
     "output_type": "execute_result"
    }
   ],
   "source": [
    "data2 = data.iloc[:20, [2, 4, 5, 6, 11]]\n",
    "data2.head()"
   ]
  },
  {
   "cell_type": "markdown",
   "metadata": {},
   "source": [
    "6- Display the row numbers where last values are equal to 4.5 or higher.\n"
   ]
  },
  {
   "cell_type": "code",
   "execution_count": 28,
   "metadata": {},
   "outputs": [
    {
     "name": "stdout",
     "output_type": "stream",
     "text": [
      "                    DateTime  Latitude  Longitude   Depth  Magnitude MagType  \\\n",
      "0     1970/01/04 17:00:40.20   24.1390   102.5030   31.00        7.5      Ms   \n",
      "1     1970/01/06 05:35:51.80   -9.6280   151.4580    8.00        6.2      Ms   \n",
      "2     1970/01/08 17:12:39.10  -34.7410   178.5680  179.00        6.1      Mb   \n",
      "3     1970/01/10 12:07:08.60    6.8250   126.7370   73.00        6.1      Mb   \n",
      "4     1970/01/16 08:05:39.00   60.2800  -152.6600   85.00        6.0      ML   \n",
      "...                      ...       ...        ...     ...        ...     ...   \n",
      "5299  2013/12/01 06:29:57.80    2.0440    96.8261   20.00        6.0      Mw   \n",
      "5300  2013/12/08 17:24:54.20   44.4438   149.1667   28.00        6.1      Mw   \n",
      "5301  2013/12/17 23:38:08.10   20.7635   146.7599   16.06        6.2      Mw   \n",
      "5302  2014/01/01 16:03:28.89  -13.8779   167.2434  187.00        6.5      Mw   \n",
      "5303  2014/01/13 04:01:04.69   19.0014   -66.8478   28.00        6.4      Mw   \n",
      "\n",
      "      NbStations   Gap  Distance   RMS Source       EventID  \n",
      "0           90.0   NaN       NaN  0.00    NEI  1.970010e+09  \n",
      "1           85.0   NaN       NaN  0.00    NEI  1.970011e+09  \n",
      "2           59.0   NaN       NaN  0.00    NEI  1.970011e+09  \n",
      "3           91.0   NaN       NaN  0.00    NEI  1.970011e+09  \n",
      "4            0.0   NaN       NaN   NaN     AK           NaN  \n",
      "...          ...   ...       ...   ...    ...           ...  \n",
      "5299         NaN  27.0       1.0  0.89     us  2.013120e+09  \n",
      "5300         NaN  26.0       5.0  0.99     us  2.013121e+09  \n",
      "5301         NaN  14.0       4.0  0.74     us  2.013122e+09  \n",
      "5302         NaN  14.0       4.0  0.67     us  2.014010e+09  \n",
      "5303         NaN  21.0       1.0  1.42     us  2.014011e+09  \n",
      "\n",
      "[5304 rows x 12 columns]\n"
     ]
    }
   ],
   "source": [
    "#last values are EventID, wrong question? I changed it to the values from Magnitude\n",
    "data_5 = data['Magnitude']\n",
    "print(data[data_5 >= 4.5]) \n"
   ]
  },
  {
   "cell_type": "markdown",
   "metadata": {},
   "source": [
    "7- Assign 1 to first row.\n"
   ]
  },
  {
   "cell_type": "code",
   "execution_count": 31,
   "metadata": {},
   "outputs": [
    {
     "data": {
      "text/plain": [
       "DateTime        1\n",
       "Latitude      1.0\n",
       "Longitude     1.0\n",
       "Depth         1.0\n",
       "Magnitude     1.0\n",
       "MagType         1\n",
       "NbStations    1.0\n",
       "Gap           1.0\n",
       "Distance      1.0\n",
       "RMS           1.0\n",
       "Source          1\n",
       "EventID       1.0\n",
       "Name: 0, dtype: object"
      ]
     },
     "execution_count": 31,
     "metadata": {},
     "output_type": "execute_result"
    }
   ],
   "source": [
    "data.iloc[0] = 1\n",
    "data.iloc[0]"
   ]
  },
  {
   "cell_type": "markdown",
   "metadata": {},
   "source": [
    "8- Save the final state of the array to disk. You are going to use this in the next assignment.\n"
   ]
  },
  {
   "cell_type": "code",
   "execution_count": 44,
   "metadata": {},
   "outputs": [],
   "source": [
    "data.to_csv('earthquakes_saved', index=False)\n"
   ]
  },
  {
   "cell_type": "markdown",
   "metadata": {},
   "source": [
    "9- Load the array you saved in the previous lesson from the disk."
   ]
  },
  {
   "cell_type": "code",
   "execution_count": 45,
   "metadata": {},
   "outputs": [
    {
     "data": {
      "text/html": [
       "<div>\n",
       "<style scoped>\n",
       "    .dataframe tbody tr th:only-of-type {\n",
       "        vertical-align: middle;\n",
       "    }\n",
       "\n",
       "    .dataframe tbody tr th {\n",
       "        vertical-align: top;\n",
       "    }\n",
       "\n",
       "    .dataframe thead th {\n",
       "        text-align: right;\n",
       "    }\n",
       "</style>\n",
       "<table border=\"1\" class=\"dataframe\">\n",
       "  <thead>\n",
       "    <tr style=\"text-align: right;\">\n",
       "      <th></th>\n",
       "      <th>DateTime</th>\n",
       "      <th>Latitude</th>\n",
       "      <th>Longitude</th>\n",
       "      <th>Depth</th>\n",
       "      <th>Magnitude</th>\n",
       "      <th>MagType</th>\n",
       "      <th>NbStations</th>\n",
       "      <th>Gap</th>\n",
       "      <th>Distance</th>\n",
       "      <th>RMS</th>\n",
       "      <th>Source</th>\n",
       "      <th>EventID</th>\n",
       "    </tr>\n",
       "  </thead>\n",
       "  <tbody>\n",
       "    <tr>\n",
       "      <th>0</th>\n",
       "      <td>1</td>\n",
       "      <td>1.000</td>\n",
       "      <td>1.000</td>\n",
       "      <td>1.0</td>\n",
       "      <td>1.0</td>\n",
       "      <td>1</td>\n",
       "      <td>1.0</td>\n",
       "      <td>1.0</td>\n",
       "      <td>1.0</td>\n",
       "      <td>1.0</td>\n",
       "      <td>1</td>\n",
       "      <td>1.000000e+00</td>\n",
       "    </tr>\n",
       "    <tr>\n",
       "      <th>1</th>\n",
       "      <td>1970/01/06 05:35:51.80</td>\n",
       "      <td>-9.628</td>\n",
       "      <td>151.458</td>\n",
       "      <td>8.0</td>\n",
       "      <td>6.2</td>\n",
       "      <td>Ms</td>\n",
       "      <td>85.0</td>\n",
       "      <td>NaN</td>\n",
       "      <td>NaN</td>\n",
       "      <td>0.0</td>\n",
       "      <td>NEI</td>\n",
       "      <td>1.970011e+09</td>\n",
       "    </tr>\n",
       "    <tr>\n",
       "      <th>2</th>\n",
       "      <td>1970/01/08 17:12:39.10</td>\n",
       "      <td>-34.741</td>\n",
       "      <td>178.568</td>\n",
       "      <td>179.0</td>\n",
       "      <td>6.1</td>\n",
       "      <td>Mb</td>\n",
       "      <td>59.0</td>\n",
       "      <td>NaN</td>\n",
       "      <td>NaN</td>\n",
       "      <td>0.0</td>\n",
       "      <td>NEI</td>\n",
       "      <td>1.970011e+09</td>\n",
       "    </tr>\n",
       "    <tr>\n",
       "      <th>3</th>\n",
       "      <td>1970/01/10 12:07:08.60</td>\n",
       "      <td>6.825</td>\n",
       "      <td>126.737</td>\n",
       "      <td>73.0</td>\n",
       "      <td>6.1</td>\n",
       "      <td>Mb</td>\n",
       "      <td>91.0</td>\n",
       "      <td>NaN</td>\n",
       "      <td>NaN</td>\n",
       "      <td>0.0</td>\n",
       "      <td>NEI</td>\n",
       "      <td>1.970011e+09</td>\n",
       "    </tr>\n",
       "    <tr>\n",
       "      <th>4</th>\n",
       "      <td>1970/01/16 08:05:39.00</td>\n",
       "      <td>60.280</td>\n",
       "      <td>-152.660</td>\n",
       "      <td>85.0</td>\n",
       "      <td>6.0</td>\n",
       "      <td>ML</td>\n",
       "      <td>0.0</td>\n",
       "      <td>NaN</td>\n",
       "      <td>NaN</td>\n",
       "      <td>NaN</td>\n",
       "      <td>AK</td>\n",
       "      <td>NaN</td>\n",
       "    </tr>\n",
       "  </tbody>\n",
       "</table>\n",
       "</div>"
      ],
      "text/plain": [
       "                 DateTime  Latitude  Longitude  Depth  Magnitude MagType  \\\n",
       "0                       1     1.000      1.000    1.0        1.0       1   \n",
       "1  1970/01/06 05:35:51.80    -9.628    151.458    8.0        6.2      Ms   \n",
       "2  1970/01/08 17:12:39.10   -34.741    178.568  179.0        6.1      Mb   \n",
       "3  1970/01/10 12:07:08.60     6.825    126.737   73.0        6.1      Mb   \n",
       "4  1970/01/16 08:05:39.00    60.280   -152.660   85.0        6.0      ML   \n",
       "\n",
       "   NbStations  Gap  Distance  RMS Source       EventID  \n",
       "0         1.0  1.0       1.0  1.0      1  1.000000e+00  \n",
       "1        85.0  NaN       NaN  0.0    NEI  1.970011e+09  \n",
       "2        59.0  NaN       NaN  0.0    NEI  1.970011e+09  \n",
       "3        91.0  NaN       NaN  0.0    NEI  1.970011e+09  \n",
       "4         0.0  NaN       NaN  NaN     AK           NaN  "
      ]
     },
     "execution_count": 45,
     "metadata": {},
     "output_type": "execute_result"
    }
   ],
   "source": [
    "data_new = pd.read_csv('earthquakes_saved')\n",
    "data_new.head()\n",
    "#data_saved = np.load('earthquakes_array.npy', allow_pickle=True)\n",
    "#data_saved = data_saved[:,[1,2,3,4,6]]\n",
    "#print(data_saved)"
   ]
  },
  {
   "cell_type": "markdown",
   "metadata": {},
   "source": [
    "10- Display the mean and the standard deviation for each column.\n"
   ]
  },
  {
   "cell_type": "code",
   "execution_count": 46,
   "metadata": {},
   "outputs": [
    {
     "name": "stderr",
     "output_type": "stream",
     "text": [
      "/var/folders/3j/dhs8gmxj1wv7j6tk8_jzmv1c0000gn/T/ipykernel_98829/4080730010.py:1: FutureWarning: Dropping of nuisance columns in DataFrame reductions (with 'numeric_only=None') is deprecated; in a future version this will raise TypeError.  Select only valid columns before calling the reduction.\n",
      "  data.mean()\n"
     ]
    },
    {
     "data": {
      "text/plain": [
       "Latitude      2.585998e+00\n",
       "Longitude     4.462209e+01\n",
       "Depth         7.426238e+01\n",
       "Magnitude     6.367888e+00\n",
       "NbStations    3.017570e+02\n",
       "Gap           4.882081e+01\n",
       "Distance      6.573099e+00\n",
       "RMS           8.171163e-01\n",
       "EventID       1.979933e+09\n",
       "dtype: float64"
      ]
     },
     "execution_count": 46,
     "metadata": {},
     "output_type": "execute_result"
    }
   ],
   "source": [
    "data.mean()\n"
   ]
  },
  {
   "cell_type": "code",
   "execution_count": 47,
   "metadata": {},
   "outputs": [
    {
     "name": "stderr",
     "output_type": "stream",
     "text": [
      "/var/folders/3j/dhs8gmxj1wv7j6tk8_jzmv1c0000gn/T/ipykernel_98829/2723740006.py:1: FutureWarning: Dropping of nuisance columns in DataFrame reductions (with 'numeric_only=None') is deprecated; in a future version this will raise TypeError.  Select only valid columns before calling the reduction.\n",
      "  data.std()\n"
     ]
    },
    {
     "data": {
      "text/plain": [
       "Latitude      2.987148e+01\n",
       "Longitude     1.247909e+02\n",
       "Depth         1.290948e+02\n",
       "Magnitude     4.252056e-01\n",
       "NbStations    1.709842e+02\n",
       "Gap           5.286080e+01\n",
       "Distance      1.001230e+01\n",
       "RMS           5.595743e-01\n",
       "EventID       1.718992e+08\n",
       "dtype: float64"
      ]
     },
     "execution_count": 47,
     "metadata": {},
     "output_type": "execute_result"
    }
   ],
   "source": [
    "data.std()"
   ]
  },
  {
   "cell_type": "markdown",
   "metadata": {},
   "source": [
    "11- Subtract 1, 25, 25, 10, 4 from columns in order. (Remember it can be dobe in one line of code.)\n"
   ]
  },
  {
   "cell_type": "code",
   "execution_count": 49,
   "metadata": {},
   "outputs": [
    {
     "data": {
      "text/html": [
       "<div>\n",
       "<style scoped>\n",
       "    .dataframe tbody tr th:only-of-type {\n",
       "        vertical-align: middle;\n",
       "    }\n",
       "\n",
       "    .dataframe tbody tr th {\n",
       "        vertical-align: top;\n",
       "    }\n",
       "\n",
       "    .dataframe thead th {\n",
       "        text-align: right;\n",
       "    }\n",
       "</style>\n",
       "<table border=\"1\" class=\"dataframe\">\n",
       "  <thead>\n",
       "    <tr style=\"text-align: right;\">\n",
       "      <th></th>\n",
       "      <th>Latitude</th>\n",
       "      <th>Longitude</th>\n",
       "      <th>Depth</th>\n",
       "      <th>Magnitude</th>\n",
       "      <th>NbStations</th>\n",
       "    </tr>\n",
       "  </thead>\n",
       "  <tbody>\n",
       "    <tr>\n",
       "      <th>0</th>\n",
       "      <td>0.0000</td>\n",
       "      <td>-24.0000</td>\n",
       "      <td>-24.00</td>\n",
       "      <td>-9.0</td>\n",
       "      <td>-3.0</td>\n",
       "    </tr>\n",
       "    <tr>\n",
       "      <th>1</th>\n",
       "      <td>-10.6280</td>\n",
       "      <td>126.4580</td>\n",
       "      <td>-17.00</td>\n",
       "      <td>-3.8</td>\n",
       "      <td>81.0</td>\n",
       "    </tr>\n",
       "    <tr>\n",
       "      <th>2</th>\n",
       "      <td>-35.7410</td>\n",
       "      <td>153.5680</td>\n",
       "      <td>154.00</td>\n",
       "      <td>-3.9</td>\n",
       "      <td>55.0</td>\n",
       "    </tr>\n",
       "    <tr>\n",
       "      <th>3</th>\n",
       "      <td>5.8250</td>\n",
       "      <td>101.7370</td>\n",
       "      <td>48.00</td>\n",
       "      <td>-3.9</td>\n",
       "      <td>87.0</td>\n",
       "    </tr>\n",
       "    <tr>\n",
       "      <th>4</th>\n",
       "      <td>59.2800</td>\n",
       "      <td>-177.6600</td>\n",
       "      <td>60.00</td>\n",
       "      <td>-4.0</td>\n",
       "      <td>-4.0</td>\n",
       "    </tr>\n",
       "    <tr>\n",
       "      <th>...</th>\n",
       "      <td>...</td>\n",
       "      <td>...</td>\n",
       "      <td>...</td>\n",
       "      <td>...</td>\n",
       "      <td>...</td>\n",
       "    </tr>\n",
       "    <tr>\n",
       "      <th>5299</th>\n",
       "      <td>1.0440</td>\n",
       "      <td>71.8261</td>\n",
       "      <td>-5.00</td>\n",
       "      <td>-4.0</td>\n",
       "      <td>NaN</td>\n",
       "    </tr>\n",
       "    <tr>\n",
       "      <th>5300</th>\n",
       "      <td>43.4438</td>\n",
       "      <td>124.1667</td>\n",
       "      <td>3.00</td>\n",
       "      <td>-3.9</td>\n",
       "      <td>NaN</td>\n",
       "    </tr>\n",
       "    <tr>\n",
       "      <th>5301</th>\n",
       "      <td>19.7635</td>\n",
       "      <td>121.7599</td>\n",
       "      <td>-8.94</td>\n",
       "      <td>-3.8</td>\n",
       "      <td>NaN</td>\n",
       "    </tr>\n",
       "    <tr>\n",
       "      <th>5302</th>\n",
       "      <td>-14.8779</td>\n",
       "      <td>142.2434</td>\n",
       "      <td>162.00</td>\n",
       "      <td>-3.5</td>\n",
       "      <td>NaN</td>\n",
       "    </tr>\n",
       "    <tr>\n",
       "      <th>5303</th>\n",
       "      <td>18.0014</td>\n",
       "      <td>-91.8478</td>\n",
       "      <td>3.00</td>\n",
       "      <td>-3.6</td>\n",
       "      <td>NaN</td>\n",
       "    </tr>\n",
       "  </tbody>\n",
       "</table>\n",
       "<p>5304 rows × 5 columns</p>\n",
       "</div>"
      ],
      "text/plain": [
       "      Latitude  Longitude   Depth  Magnitude  NbStations\n",
       "0       0.0000   -24.0000  -24.00       -9.0        -3.0\n",
       "1     -10.6280   126.4580  -17.00       -3.8        81.0\n",
       "2     -35.7410   153.5680  154.00       -3.9        55.0\n",
       "3       5.8250   101.7370   48.00       -3.9        87.0\n",
       "4      59.2800  -177.6600   60.00       -4.0        -4.0\n",
       "...        ...        ...     ...        ...         ...\n",
       "5299    1.0440    71.8261   -5.00       -4.0         NaN\n",
       "5300   43.4438   124.1667    3.00       -3.9         NaN\n",
       "5301   19.7635   121.7599   -8.94       -3.8         NaN\n",
       "5302  -14.8779   142.2434  162.00       -3.5         NaN\n",
       "5303   18.0014   -91.8478    3.00       -3.6         NaN\n",
       "\n",
       "[5304 rows x 5 columns]"
      ]
     },
     "execution_count": 49,
     "metadata": {},
     "output_type": "execute_result"
    }
   ],
   "source": [
    "new = [1,25,25,10,4]\n",
    "data_new_part = data_new[['Latitude', 'Longitude',\n",
    "                          'Depth', 'Magnitude', 'NbStations']]\n",
    "data_new_part.subtract(new)\n"
   ]
  },
  {
   "cell_type": "markdown",
   "metadata": {},
   "source": [
    "12- Multiply each element by 2. (Remember it can be done in one line of code.)"
   ]
  },
  {
   "cell_type": "code",
   "execution_count": 36,
   "metadata": {},
   "outputs": [
    {
     "data": {
      "text/html": [
       "<div>\n",
       "<style scoped>\n",
       "    .dataframe tbody tr th:only-of-type {\n",
       "        vertical-align: middle;\n",
       "    }\n",
       "\n",
       "    .dataframe tbody tr th {\n",
       "        vertical-align: top;\n",
       "    }\n",
       "\n",
       "    .dataframe thead th {\n",
       "        text-align: right;\n",
       "    }\n",
       "</style>\n",
       "<table border=\"1\" class=\"dataframe\">\n",
       "  <thead>\n",
       "    <tr style=\"text-align: right;\">\n",
       "      <th></th>\n",
       "      <th>Unnamed: 0</th>\n",
       "      <th>DateTime</th>\n",
       "      <th>Latitude</th>\n",
       "      <th>Longitude</th>\n",
       "      <th>Depth</th>\n",
       "      <th>Magnitude</th>\n",
       "      <th>MagType</th>\n",
       "      <th>NbStations</th>\n",
       "      <th>Gap</th>\n",
       "      <th>Distance</th>\n",
       "      <th>RMS</th>\n",
       "      <th>Source</th>\n",
       "      <th>EventID</th>\n",
       "    </tr>\n",
       "  </thead>\n",
       "  <tbody>\n",
       "    <tr>\n",
       "      <th>0</th>\n",
       "      <td>0</td>\n",
       "      <td>11</td>\n",
       "      <td>2.0000</td>\n",
       "      <td>2.0000</td>\n",
       "      <td>2.00</td>\n",
       "      <td>2.0</td>\n",
       "      <td>11</td>\n",
       "      <td>2.0</td>\n",
       "      <td>2.0</td>\n",
       "      <td>2.0</td>\n",
       "      <td>2.00</td>\n",
       "      <td>11</td>\n",
       "      <td>2.000000e+00</td>\n",
       "    </tr>\n",
       "    <tr>\n",
       "      <th>1</th>\n",
       "      <td>2</td>\n",
       "      <td>1970/01/06 05:35:51.801970/01/06 05:35:51.80</td>\n",
       "      <td>-19.2560</td>\n",
       "      <td>302.9160</td>\n",
       "      <td>16.00</td>\n",
       "      <td>12.4</td>\n",
       "      <td>MsMs</td>\n",
       "      <td>170.0</td>\n",
       "      <td>NaN</td>\n",
       "      <td>NaN</td>\n",
       "      <td>0.00</td>\n",
       "      <td>NEINEI</td>\n",
       "      <td>3.940021e+09</td>\n",
       "    </tr>\n",
       "    <tr>\n",
       "      <th>2</th>\n",
       "      <td>4</td>\n",
       "      <td>1970/01/08 17:12:39.101970/01/08 17:12:39.10</td>\n",
       "      <td>-69.4820</td>\n",
       "      <td>357.1360</td>\n",
       "      <td>358.00</td>\n",
       "      <td>12.2</td>\n",
       "      <td>MbMb</td>\n",
       "      <td>118.0</td>\n",
       "      <td>NaN</td>\n",
       "      <td>NaN</td>\n",
       "      <td>0.00</td>\n",
       "      <td>NEINEI</td>\n",
       "      <td>3.940022e+09</td>\n",
       "    </tr>\n",
       "    <tr>\n",
       "      <th>3</th>\n",
       "      <td>6</td>\n",
       "      <td>1970/01/10 12:07:08.601970/01/10 12:07:08.60</td>\n",
       "      <td>13.6500</td>\n",
       "      <td>253.4740</td>\n",
       "      <td>146.00</td>\n",
       "      <td>12.2</td>\n",
       "      <td>MbMb</td>\n",
       "      <td>182.0</td>\n",
       "      <td>NaN</td>\n",
       "      <td>NaN</td>\n",
       "      <td>0.00</td>\n",
       "      <td>NEINEI</td>\n",
       "      <td>3.940022e+09</td>\n",
       "    </tr>\n",
       "    <tr>\n",
       "      <th>4</th>\n",
       "      <td>8</td>\n",
       "      <td>1970/01/16 08:05:39.001970/01/16 08:05:39.00</td>\n",
       "      <td>120.5600</td>\n",
       "      <td>-305.3200</td>\n",
       "      <td>170.00</td>\n",
       "      <td>12.0</td>\n",
       "      <td>MLML</td>\n",
       "      <td>0.0</td>\n",
       "      <td>NaN</td>\n",
       "      <td>NaN</td>\n",
       "      <td>NaN</td>\n",
       "      <td>AKAK</td>\n",
       "      <td>NaN</td>\n",
       "    </tr>\n",
       "    <tr>\n",
       "      <th>...</th>\n",
       "      <td>...</td>\n",
       "      <td>...</td>\n",
       "      <td>...</td>\n",
       "      <td>...</td>\n",
       "      <td>...</td>\n",
       "      <td>...</td>\n",
       "      <td>...</td>\n",
       "      <td>...</td>\n",
       "      <td>...</td>\n",
       "      <td>...</td>\n",
       "      <td>...</td>\n",
       "      <td>...</td>\n",
       "      <td>...</td>\n",
       "    </tr>\n",
       "    <tr>\n",
       "      <th>5299</th>\n",
       "      <td>10598</td>\n",
       "      <td>2013/12/01 06:29:57.802013/12/01 06:29:57.80</td>\n",
       "      <td>4.0880</td>\n",
       "      <td>193.6522</td>\n",
       "      <td>40.00</td>\n",
       "      <td>12.0</td>\n",
       "      <td>MwMw</td>\n",
       "      <td>NaN</td>\n",
       "      <td>54.0</td>\n",
       "      <td>2.0</td>\n",
       "      <td>1.78</td>\n",
       "      <td>usus</td>\n",
       "      <td>4.026240e+09</td>\n",
       "    </tr>\n",
       "    <tr>\n",
       "      <th>5300</th>\n",
       "      <td>10600</td>\n",
       "      <td>2013/12/08 17:24:54.202013/12/08 17:24:54.20</td>\n",
       "      <td>88.8876</td>\n",
       "      <td>298.3334</td>\n",
       "      <td>56.00</td>\n",
       "      <td>12.2</td>\n",
       "      <td>MwMw</td>\n",
       "      <td>NaN</td>\n",
       "      <td>52.0</td>\n",
       "      <td>10.0</td>\n",
       "      <td>1.98</td>\n",
       "      <td>usus</td>\n",
       "      <td>4.026242e+09</td>\n",
       "    </tr>\n",
       "    <tr>\n",
       "      <th>5301</th>\n",
       "      <td>10602</td>\n",
       "      <td>2013/12/17 23:38:08.102013/12/17 23:38:08.10</td>\n",
       "      <td>41.5270</td>\n",
       "      <td>293.5198</td>\n",
       "      <td>32.12</td>\n",
       "      <td>12.4</td>\n",
       "      <td>MwMw</td>\n",
       "      <td>NaN</td>\n",
       "      <td>28.0</td>\n",
       "      <td>8.0</td>\n",
       "      <td>1.48</td>\n",
       "      <td>usus</td>\n",
       "      <td>4.026243e+09</td>\n",
       "    </tr>\n",
       "    <tr>\n",
       "      <th>5302</th>\n",
       "      <td>10604</td>\n",
       "      <td>2014/01/01 16:03:28.892014/01/01 16:03:28.89</td>\n",
       "      <td>-27.7558</td>\n",
       "      <td>334.4868</td>\n",
       "      <td>374.00</td>\n",
       "      <td>13.0</td>\n",
       "      <td>MwMw</td>\n",
       "      <td>NaN</td>\n",
       "      <td>28.0</td>\n",
       "      <td>8.0</td>\n",
       "      <td>1.34</td>\n",
       "      <td>usus</td>\n",
       "      <td>4.028020e+09</td>\n",
       "    </tr>\n",
       "    <tr>\n",
       "      <th>5303</th>\n",
       "      <td>10606</td>\n",
       "      <td>2014/01/13 04:01:04.692014/01/13 04:01:04.69</td>\n",
       "      <td>38.0028</td>\n",
       "      <td>-133.6956</td>\n",
       "      <td>56.00</td>\n",
       "      <td>12.8</td>\n",
       "      <td>MwMw</td>\n",
       "      <td>NaN</td>\n",
       "      <td>42.0</td>\n",
       "      <td>2.0</td>\n",
       "      <td>2.84</td>\n",
       "      <td>usus</td>\n",
       "      <td>4.028023e+09</td>\n",
       "    </tr>\n",
       "  </tbody>\n",
       "</table>\n",
       "<p>5304 rows × 13 columns</p>\n",
       "</div>"
      ],
      "text/plain": [
       "      Unnamed: 0                                      DateTime  Latitude  \\\n",
       "0              0                                            11    2.0000   \n",
       "1              2  1970/01/06 05:35:51.801970/01/06 05:35:51.80  -19.2560   \n",
       "2              4  1970/01/08 17:12:39.101970/01/08 17:12:39.10  -69.4820   \n",
       "3              6  1970/01/10 12:07:08.601970/01/10 12:07:08.60   13.6500   \n",
       "4              8  1970/01/16 08:05:39.001970/01/16 08:05:39.00  120.5600   \n",
       "...          ...                                           ...       ...   \n",
       "5299       10598  2013/12/01 06:29:57.802013/12/01 06:29:57.80    4.0880   \n",
       "5300       10600  2013/12/08 17:24:54.202013/12/08 17:24:54.20   88.8876   \n",
       "5301       10602  2013/12/17 23:38:08.102013/12/17 23:38:08.10   41.5270   \n",
       "5302       10604  2014/01/01 16:03:28.892014/01/01 16:03:28.89  -27.7558   \n",
       "5303       10606  2014/01/13 04:01:04.692014/01/13 04:01:04.69   38.0028   \n",
       "\n",
       "      Longitude   Depth  Magnitude MagType  NbStations   Gap  Distance   RMS  \\\n",
       "0        2.0000    2.00        2.0      11         2.0   2.0       2.0  2.00   \n",
       "1      302.9160   16.00       12.4    MsMs       170.0   NaN       NaN  0.00   \n",
       "2      357.1360  358.00       12.2    MbMb       118.0   NaN       NaN  0.00   \n",
       "3      253.4740  146.00       12.2    MbMb       182.0   NaN       NaN  0.00   \n",
       "4     -305.3200  170.00       12.0    MLML         0.0   NaN       NaN   NaN   \n",
       "...         ...     ...        ...     ...         ...   ...       ...   ...   \n",
       "5299   193.6522   40.00       12.0    MwMw         NaN  54.0       2.0  1.78   \n",
       "5300   298.3334   56.00       12.2    MwMw         NaN  52.0      10.0  1.98   \n",
       "5301   293.5198   32.12       12.4    MwMw         NaN  28.0       8.0  1.48   \n",
       "5302   334.4868  374.00       13.0    MwMw         NaN  28.0       8.0  1.34   \n",
       "5303  -133.6956   56.00       12.8    MwMw         NaN  42.0       2.0  2.84   \n",
       "\n",
       "      Source       EventID  \n",
       "0         11  2.000000e+00  \n",
       "1     NEINEI  3.940021e+09  \n",
       "2     NEINEI  3.940022e+09  \n",
       "3     NEINEI  3.940022e+09  \n",
       "4       AKAK           NaN  \n",
       "...      ...           ...  \n",
       "5299    usus  4.026240e+09  \n",
       "5300    usus  4.026242e+09  \n",
       "5301    usus  4.026243e+09  \n",
       "5302    usus  4.028020e+09  \n",
       "5303    usus  4.028023e+09  \n",
       "\n",
       "[5304 rows x 13 columns]"
      ]
     },
     "execution_count": 36,
     "metadata": {},
     "output_type": "execute_result"
    }
   ],
   "source": [
    "data_new * 2"
   ]
  },
  {
   "cell_type": "code",
   "execution_count": null,
   "metadata": {},
   "outputs": [],
   "source": []
  }
 ],
 "metadata": {
  "interpreter": {
   "hash": "c472257139bf167f004cf9a82551caeb4bac94da13b8695221f38d43b2d81e5a"
  },
  "kernelspec": {
   "display_name": "Python 3.8.12 ('tf_M1')",
   "language": "python",
   "name": "python3"
  },
  "language_info": {
   "codemirror_mode": {
    "name": "ipython",
    "version": 3
   },
   "file_extension": ".py",
   "mimetype": "text/x-python",
   "name": "python",
   "nbconvert_exporter": "python",
   "pygments_lexer": "ipython3",
   "version": "3.8.12"
  },
  "orig_nbformat": 4
 },
 "nbformat": 4,
 "nbformat_minor": 2
}
