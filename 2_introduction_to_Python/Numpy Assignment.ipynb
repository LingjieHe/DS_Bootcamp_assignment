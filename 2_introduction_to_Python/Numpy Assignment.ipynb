{
 "cells": [
  {
   "cell_type": "markdown",
   "metadata": {},
   "source": [
    "1- Create three lists representing house features, each list containing ten values. The first one for the house's size in square meters, the second one for rooms and last for price. Then, create an array combining these lists."
   ]
  },
  {
   "cell_type": "code",
   "execution_count": 7,
   "metadata": {},
   "outputs": [
    {
     "name": "stdout",
     "output_type": "stream",
     "text": [
      "[[200 250 350 290 310 259 300 180 220 400]\n",
      " [  2   3   3   3   3   3   4   2   3   5]\n",
      " [180 190 240 200 230 195 250 160 210 300]]\n"
     ]
    }
   ],
   "source": [
    "import numpy as np\n",
    "size = [200,250,350,290,310,259,300,180,220,400]\n",
    "rooms = [2,3,3,3,3,3,4,2,3,5]\n",
    "price = [180,190,240,200,230,195,250,160,210,300]\n",
    "features = np.array([size,rooms,price])\n",
    "print(features)"
   ]
  },
  {
   "cell_type": "markdown",
   "metadata": {},
   "source": [
    "2- Transpose the array you have created, so that every line can represent features of one house."
   ]
  },
  {
   "cell_type": "code",
   "execution_count": 8,
   "metadata": {},
   "outputs": [
    {
     "name": "stdout",
     "output_type": "stream",
     "text": [
      "[[200   2 180]\n",
      " [250   3 190]\n",
      " [350   3 240]\n",
      " [290   3 200]\n",
      " [310   3 230]\n",
      " [259   3 195]\n",
      " [300   4 250]\n",
      " [180   2 160]\n",
      " [220   3 210]\n",
      " [400   5 300]]\n"
     ]
    }
   ],
   "source": [
    "features = features.T\n",
    "print(features)"
   ]
  },
  {
   "cell_type": "markdown",
   "metadata": {},
   "source": [
    "3- Display the shape of the array and explain what it means."
   ]
  },
  {
   "cell_type": "code",
   "execution_count": 9,
   "metadata": {},
   "outputs": [
    {
     "data": {
      "text/plain": [
       "(10, 3)"
      ]
     },
     "execution_count": 9,
     "metadata": {},
     "output_type": "execute_result"
    }
   ],
   "source": [
    "features.shape\n",
    "#The array has 10 rows and 3 columns"
   ]
  },
  {
   "cell_type": "markdown",
   "metadata": {},
   "source": [
    "For the following assignment, you are going to use Earthquakes [https://bootrain-lms-assets.s3.eu-central-1.amazonaws.com/bootrain-lms-static/datasets/Earthquakes.csv] dataset.\n",
    "\n",
    "4- Load the Earthquakes dataset. Export the dataset to an array as you covered in the previous lesson."
   ]
  },
  {
   "cell_type": "code",
   "execution_count": 58,
   "metadata": {},
   "outputs": [
    {
     "data": {
      "text/plain": [
       "\"\\nwith open('earthquakes1970-2014.csv', 'r') as eq:\\n    reader = csv.reader(eq)\\n    data = np.array(list(reader)) #.dtype(float)\\nprint(data[:3])\\nprint(data.shape)\\n\""
      ]
     },
     "execution_count": 58,
     "metadata": {},
     "output_type": "execute_result"
    }
   ],
   "source": [
    "import numpy as np\n",
    "import csv\n",
    "\n",
    "'''\n",
    "with open('earthquakes1970-2014.csv', 'r') as eq:\n",
    "    reader = csv.reader(eq)\n",
    "    data = np.array(list(reader)) #.dtype(float)\n",
    "print(data[:3])\n",
    "print(data.shape)\n",
    "'''\n"
   ]
  },
  {
   "cell_type": "markdown",
   "metadata": {},
   "source": [
    "5- Slice first 20 rows and column numbers 3, 5, 6, 7, 12. Then, assign the array you sliced to a variable.\n"
   ]
  },
  {
   "cell_type": "code",
   "execution_count": 61,
   "metadata": {},
   "outputs": [
    {
     "name": "stdout",
     "output_type": "stream",
     "text": [
      "[[102.503 7.5 'Ms' 90.0 1970010440.0]\n",
      " [151.458 6.2 'Ms' 85.0 1970010640.0]\n",
      " [178.568 6.1 'Mb' 59.0 1970010840.0]]\n"
     ]
    }
   ],
   "source": [
    "sliced = data[:20, [2, 4, 5, 6, 11]]\n",
    "print(sliced[:3])"
   ]
  },
  {
   "cell_type": "markdown",
   "metadata": {},
   "source": [
    "6- Display the row numbers where last values are equal to 4.5 or higher.\n"
   ]
  },
  {
   "cell_type": "code",
   "execution_count": 62,
   "metadata": {},
   "outputs": [
    {
     "name": "stdout",
     "output_type": "stream",
     "text": [
      "[1970010440.0 1970010640.0 1970010840.0 ... 2013121720.0 2014010120.0\n",
      " 2014011320.0]\n",
      "(array([   0,    1,    2, ..., 5301, 5302, 5303]),)\n"
     ]
    }
   ],
   "source": [
    "#last values are EventID, wrong question?\n",
    "last = data[:, -1]\n",
    "print(last)\n",
    "print(np.where(last>=4.5))\n",
    "#np.where(float(data[:,-1])>=4.5, axis=1)"
   ]
  },
  {
   "cell_type": "markdown",
   "metadata": {},
   "source": [
    "7- Assign 1 to first row.\n"
   ]
  },
  {
   "cell_type": "code",
   "execution_count": 63,
   "metadata": {},
   "outputs": [
    {
     "name": "stdout",
     "output_type": "stream",
     "text": [
      "[1 1 1 1 1 1 1 1 1 1 1 1]\n"
     ]
    }
   ],
   "source": [
    "data[0]=1\n",
    "print(data[0])"
   ]
  },
  {
   "cell_type": "markdown",
   "metadata": {},
   "source": [
    "8- Save the final state of the array to disk. You are going to use this in the next assignment.\n"
   ]
  },
  {
   "cell_type": "code",
   "execution_count": 71,
   "metadata": {},
   "outputs": [],
   "source": [
    "np.save('earthquakes_array', data)"
   ]
  },
  {
   "cell_type": "markdown",
   "metadata": {},
   "source": [
    "9- Load the array you saved in the previous lesson from the disk.\n"
   ]
  },
  {
   "cell_type": "code",
   "execution_count": 99,
   "metadata": {},
   "outputs": [
    {
     "name": "stdout",
     "output_type": "stream",
     "text": [
      "[[1 1 1 1 1]\n",
      " [-9.628 151.458 8.0 6.2 85.0]\n",
      " [-34.741 178.568 179.0 6.1 59.0]\n",
      " ...\n",
      " [20.7635 146.759899999999 16.06 6.2 nan]\n",
      " [-13.8779 167.2434 187.0 6.5 nan]\n",
      " [19.0014 -66.8478 28.0 6.4 nan]]\n"
     ]
    }
   ],
   "source": [
    "data_saved = np.load('earthquakes_array.npy', allow_pickle=True)\n",
    "data_saved = data_saved[:,[1,2,3,4,6]]\n",
    "print(data_saved)"
   ]
  },
  {
   "cell_type": "markdown",
   "metadata": {},
   "source": [
    "10- Display the mean and the standard deviation for each column.\n"
   ]
  },
  {
   "cell_type": "code",
   "execution_count": 101,
   "metadata": {},
   "outputs": [
    {
     "name": "stdout",
     "output_type": "stream",
     "text": [
      "Mean: [2.5859975490196043 44.62208761312208 74.26238122171952 6.3678883861236075\n",
      " nan]\n"
     ]
    }
   ],
   "source": [
    "print('Mean:',np.mean(data_saved,axis=0))\n"
   ]
  },
  {
   "cell_type": "markdown",
   "metadata": {},
   "source": [
    "11- Subtract 1, 25, 25, 10, 4 from columns in order. (Remember it can be dobe in one line of code.)\n"
   ]
  },
  {
   "cell_type": "code",
   "execution_count": 103,
   "metadata": {},
   "outputs": [
    {
     "data": {
      "text/plain": [
       "array([[2, 26, 26, 11, 5],\n",
       "       [-8.628, 176.458, 33.0, 16.2, 89.0],\n",
       "       [-33.741, 203.568, 204.0, 16.1, 63.0],\n",
       "       ...,\n",
       "       [21.7635, 171.759899999999, 41.06, 16.2, nan],\n",
       "       [-12.8779, 192.2434, 212.0, 16.5, nan],\n",
       "       [20.0014, -41.84780000000001, 53.0, 16.4, nan]], dtype=object)"
      ]
     },
     "execution_count": 103,
     "metadata": {},
     "output_type": "execute_result"
    }
   ],
   "source": [
    "new = [1,25,25,10,4]\n",
    "data_saved + new\n"
   ]
  },
  {
   "cell_type": "markdown",
   "metadata": {},
   "source": [
    "12- Multiply each element by 2. (Remember it can be done in one line of code.)"
   ]
  },
  {
   "cell_type": "code",
   "execution_count": 102,
   "metadata": {},
   "outputs": [
    {
     "data": {
      "text/plain": [
       "array([[2, 2, 2, 2, 2],\n",
       "       [-19.256, 302.916, 16.0, 12.4, 170.0],\n",
       "       [-69.482, 357.136, 358.0, 12.2, 118.0],\n",
       "       ...,\n",
       "       [41.527, 293.519799999998, 32.12, 12.4, nan],\n",
       "       [-27.7558, 334.4868, 374.0, 13.0, nan],\n",
       "       [38.0028, -133.6956, 56.0, 12.8, nan]], dtype=object)"
      ]
     },
     "execution_count": 102,
     "metadata": {},
     "output_type": "execute_result"
    }
   ],
   "source": [
    "data_saved * 2"
   ]
  },
  {
   "cell_type": "code",
   "execution_count": null,
   "metadata": {},
   "outputs": [],
   "source": []
  }
 ],
 "metadata": {
  "interpreter": {
   "hash": "c472257139bf167f004cf9a82551caeb4bac94da13b8695221f38d43b2d81e5a"
  },
  "kernelspec": {
   "display_name": "Python 3.8.12 ('tf_M1')",
   "language": "python",
   "name": "python3"
  },
  "language_info": {
   "codemirror_mode": {
    "name": "ipython",
    "version": 3
   },
   "file_extension": ".py",
   "mimetype": "text/x-python",
   "name": "python",
   "nbconvert_exporter": "python",
   "pygments_lexer": "ipython3",
   "version": "3.8.12"
  },
  "orig_nbformat": 4
 },
 "nbformat": 4,
 "nbformat_minor": 2
}
