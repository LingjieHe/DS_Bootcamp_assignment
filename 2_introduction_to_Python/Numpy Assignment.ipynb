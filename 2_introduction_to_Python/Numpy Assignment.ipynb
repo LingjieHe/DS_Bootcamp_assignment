{
 "cells": [
  {
   "cell_type": "markdown",
   "metadata": {},
   "source": [
    "1- Create three lists representing house features, each list containing ten values. The first one for the house's size in square meters, the second one for rooms and last for price. Then, create an array combining these lists."
   ]
  },
  {
   "cell_type": "code",
   "execution_count": 7,
   "metadata": {},
   "outputs": [
    {
     "name": "stdout",
     "output_type": "stream",
     "text": [
      "[[200 250 350 290 310 259 300 180 220 400]\n",
      " [  2   3   3   3   3   3   4   2   3   5]\n",
      " [180 190 240 200 230 195 250 160 210 300]]\n"
     ]
    }
   ],
   "source": [
    "import numpy as np\n",
    "size = [200,250,350,290,310,259,300,180,220,400]\n",
    "rooms = [2,3,3,3,3,3,4,2,3,5]\n",
    "price = [180,190,240,200,230,195,250,160,210,300]\n",
    "features = np.array([size,rooms,price])\n",
    "print(features)"
   ]
  },
  {
   "cell_type": "markdown",
   "metadata": {},
   "source": [
    "2- Transpose the array you have created, so that every line can represent features of one house."
   ]
  },
  {
   "cell_type": "code",
   "execution_count": 8,
   "metadata": {},
   "outputs": [
    {
     "name": "stdout",
     "output_type": "stream",
     "text": [
      "[[200   2 180]\n",
      " [250   3 190]\n",
      " [350   3 240]\n",
      " [290   3 200]\n",
      " [310   3 230]\n",
      " [259   3 195]\n",
      " [300   4 250]\n",
      " [180   2 160]\n",
      " [220   3 210]\n",
      " [400   5 300]]\n"
     ]
    }
   ],
   "source": [
    "features = features.T\n",
    "print(features)"
   ]
  },
  {
   "cell_type": "markdown",
   "metadata": {},
   "source": [
    "3- Display the shape of the array and explain what it means."
   ]
  },
  {
   "cell_type": "code",
   "execution_count": 9,
   "metadata": {},
   "outputs": [
    {
     "data": {
      "text/plain": [
       "(10, 3)"
      ]
     },
     "execution_count": 9,
     "metadata": {},
     "output_type": "execute_result"
    }
   ],
   "source": [
    "features.shape\n",
    "#The array has 10 rows and 3 columns"
   ]
  }
 ],
 "metadata": {
  "interpreter": {
   "hash": "c472257139bf167f004cf9a82551caeb4bac94da13b8695221f38d43b2d81e5a"
  },
  "kernelspec": {
   "display_name": "Python 3.8.12 ('tf_M1')",
   "language": "python",
   "name": "python3"
  },
  "language_info": {
   "codemirror_mode": {
    "name": "ipython",
    "version": 3
   },
   "file_extension": ".py",
   "mimetype": "text/x-python",
   "name": "python",
   "nbconvert_exporter": "python",
   "pygments_lexer": "ipython3",
   "version": "3.8.12"
  },
  "orig_nbformat": 4
 },
 "nbformat": 4,
 "nbformat_minor": 2
}
