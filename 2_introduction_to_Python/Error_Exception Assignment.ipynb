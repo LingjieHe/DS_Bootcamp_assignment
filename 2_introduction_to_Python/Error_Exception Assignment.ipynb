{
 "cells": [
  {
   "cell_type": "markdown",
   "metadata": {},
   "source": [
    "1- Let us define a division operation inside a function (using def) but to get an error, define the denominator as 0. So, type except statement properly."
   ]
  },
  {
   "cell_type": "code",
   "execution_count": 1,
   "metadata": {},
   "outputs": [
    {
     "name": "stdout",
     "output_type": "stream",
     "text": [
      "<class 'ZeroDivisionError'>\n",
      "can't divide zero\n"
     ]
    }
   ],
   "source": [
    "def division(num, denominator):\n",
    "    try:\n",
    "        num = num/denominator\n",
    "    except ZeroDivisionError:\n",
    "        print(ZeroDivisionError)\n",
    "        print(\"can't divide zero\")\n",
    "division(4,0)      "
   ]
  },
  {
   "cell_type": "markdown",
   "metadata": {},
   "source": [
    "2- It is possible to get multiple errors after the execution of one try block. So, please define an error-exception issue with NameError."
   ]
  },
  {
   "cell_type": "code",
   "execution_count": 3,
   "metadata": {},
   "outputs": [
    {
     "name": "stdout",
     "output_type": "stream",
     "text": [
      "name 't' is not defined\n",
      "variable is not defined\n"
     ]
    }
   ],
   "source": [
    "def name():\n",
    "    try:\n",
    "        total = 3 + 4\n",
    "        return t\n",
    "    except NameError as error_name:\n",
    "        print(error_name)\n",
    "        print(\"variable is not defined\")\n",
    "name()"
   ]
  },
  {
   "cell_type": "markdown",
   "metadata": {},
   "source": [
    "3- Please define a function and with this function, generate a ValueError exception simply by entering a string instead of numerical value."
   ]
  },
  {
   "cell_type": "code",
   "execution_count": 13,
   "metadata": {},
   "outputs": [
    {
     "name": "stdout",
     "output_type": "stream",
     "text": [
      "enter a number\n"
     ]
    }
   ],
   "source": [
    "def func():\n",
    "    try:\n",
    "        x = input()\n",
    "        return x + 2\n",
    "    except:\n",
    "        print(\"enter a number\")\n",
    "\n",
    "func()"
   ]
  },
  {
   "cell_type": "markdown",
   "metadata": {},
   "source": [
    "4- Write a function called circumference that takes the diameter of a circle as input and produces the circumference of the circle. Your function should use try...except to check for a type error in the event a string is passed."
   ]
  },
  {
   "cell_type": "code",
   "execution_count": 9,
   "metadata": {},
   "outputs": [
    {
     "name": "stdout",
     "output_type": "stream",
     "text": [
      "<class 'TypeError'>\n",
      "diameter should be a number\n"
     ]
    }
   ],
   "source": [
    "def circumference(diameter):\n",
    "    try:\n",
    "        c = 3.14*diameter\n",
    "    except TypeError:\n",
    "        print(TypeError)\n",
    "        print('diameter should be a number')\n",
    "\n",
    "circumference('8')    "
   ]
  },
  {
   "cell_type": "code",
   "execution_count": 2,
   "metadata": {},
   "outputs": [],
   "source": [
    "#from Soudeh\n",
    "def division(num1, num2):\n",
    "    try:\n",
    "        result = num1/num2\n",
    "        return result\n",
    "    except ZeroDivisionError:\n",
    "        print(ZeroDivisionError)\n",
    "    except NameError as error_name:\n",
    "        print(error_name)\n",
    "    except TypeError as error_Type:\n",
    "        print(error_Type)\n",
    "        "
   ]
  },
  {
   "cell_type": "code",
   "execution_count": 4,
   "metadata": {},
   "outputs": [
    {
     "data": {
      "text/plain": [
       "0.6"
      ]
     },
     "execution_count": 4,
     "metadata": {},
     "output_type": "execute_result"
    }
   ],
   "source": [
    "division(3,5)"
   ]
  },
  {
   "cell_type": "code",
   "execution_count": 5,
   "metadata": {},
   "outputs": [
    {
     "name": "stdout",
     "output_type": "stream",
     "text": [
      "<class 'ZeroDivisionError'>\n"
     ]
    }
   ],
   "source": [
    "division(3,0)"
   ]
  },
  {
   "cell_type": "code",
   "execution_count": null,
   "metadata": {},
   "outputs": [],
   "source": []
  }
 ],
 "metadata": {
  "interpreter": {
   "hash": "c472257139bf167f004cf9a82551caeb4bac94da13b8695221f38d43b2d81e5a"
  },
  "kernelspec": {
   "display_name": "Python 3.8.12 ('tf_M1')",
   "language": "python",
   "name": "python3"
  },
  "language_info": {
   "codemirror_mode": {
    "name": "ipython",
    "version": 3
   },
   "file_extension": ".py",
   "mimetype": "text/x-python",
   "name": "python",
   "nbconvert_exporter": "python",
   "pygments_lexer": "ipython3",
   "version": "3.8.12"
  },
  "orig_nbformat": 4
 },
 "nbformat": 4,
 "nbformat_minor": 2
}
