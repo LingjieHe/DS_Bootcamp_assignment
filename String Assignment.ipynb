{
 "cells": [
  {
   "cell_type": "markdown",
   "metadata": {},
   "source": [
    "String Assignment"
   ]
  },
  {
   "cell_type": "markdown",
   "metadata": {},
   "source": [
    "1. Ask the user to enter their first name and surname in lower case. Change the case to title case and join them together. Display the finished result."
   ]
  },
  {
   "cell_type": "code",
   "execution_count": 4,
   "metadata": {},
   "outputs": [
    {
     "name": "stdout",
     "output_type": "stream",
     "text": [
      "The user's name is: Lingjie He\n"
     ]
    }
   ],
   "source": [
    "firstname = input(\"Please enter your first name in lower case: \").title()\n",
    "surname = input(\"Please enter your surname in lower case: \").title()\n",
    "name = firstname + \" \" + surname\n",
    "print(f\"The user's name is: {name}\")"
   ]
  },
  {
   "cell_type": "markdown",
   "metadata": {},
   "source": [
    "2. Ask the user to type in the first line of a poem Raven by Edgar Allen Poe and display the length of the string. Ask for a starting number and an ending number and then display just that section of the text (remember Python starts counting from 0 and not 1). Here is the poem Raven:\n",
    "\n",
    "Deep into that darkness peering,\n",
    "\n",
    "Long I stood there, wondering, fearing,\n",
    "\n",
    "Doubting, dreaming dreams no mortals\n",
    "\n",
    "Ever dared to dream before;\n",
    "\n",
    "But the silence was unbroken,\n",
    "\n",
    "And the stillness gave no token,\n",
    "\n",
    "And the only word there spoken\n",
    "\n",
    "Was the whispered word, \"Lenore!\"\n",
    "\n",
    "This I whispered, and an echo\n",
    "\n",
    "Murmured back the word, \"Lenore!\"\n",
    "\n",
    "Merely this, and nothing more."
   ]
  },
  {
   "cell_type": "code",
   "execution_count": 10,
   "metadata": {},
   "outputs": [
    {
     "name": "stdout",
     "output_type": "stream",
     "text": [
      "Length of this line is: 32\n",
      "The section of the test between 1 and 4 is: Deep\n"
     ]
    }
   ],
   "source": [
    "poem = input(\"Type in the first line of a poem Raven by Edgar Allen Poe: \")\n",
    "print(f\"Length of this line is: {len(poem)}\")\n",
    "start_no = int(input(\"Type a starting number: \"))\n",
    "end_no = int(input(\"Type an end number: \"))\n",
    "print(f\"The section of the test between {start_no} and {end_no} is: {poem[start_no-1:end_no]}\")"
   ]
  },
  {
   "cell_type": "markdown",
   "metadata": {},
   "source": [
    "3. Removes extra characters from the start and end of a string and explain why you need to remove white spaces while exploring text.\n",
    "\n",
    "The reason why we remove it is because Python process these white space and if we have no idea about white spaces, there cannot properly process the text."
   ]
  },
  {
   "cell_type": "code",
   "execution_count": 16,
   "metadata": {},
   "outputs": [
    {
     "name": "stdout",
     "output_type": "stream",
     "text": [
      "remove extra characters from the start: Hi    \n",
      "remove extra characters from the end:      Hi\n",
      "remove extra characters from both start and end: Hi\n"
     ]
    }
   ],
   "source": [
    "word = \"     Hi    \"\n",
    "print(f\"remove extra characters from the start: {word.lstrip()}\")\n",
    "print(f\"remove extra characters from the end: {word.rstrip()}\")\n",
    "print(f\"remove extra characters from both start and end: {word.strip()}\")\n",
    "\n",
    "# Python processes extra characters and misleads us.\n"
   ]
  }
 ],
 "metadata": {
  "interpreter": {
   "hash": "c472257139bf167f004cf9a82551caeb4bac94da13b8695221f38d43b2d81e5a"
  },
  "kernelspec": {
   "display_name": "Python 3.8.12 ('tf_M1')",
   "language": "python",
   "name": "python3"
  },
  "language_info": {
   "codemirror_mode": {
    "name": "ipython",
    "version": 3
   },
   "file_extension": ".py",
   "mimetype": "text/x-python",
   "name": "python",
   "nbconvert_exporter": "python",
   "pygments_lexer": "ipython3",
   "version": "3.8.12"
  },
  "orig_nbformat": 4
 },
 "nbformat": 4,
 "nbformat_minor": 2
}
